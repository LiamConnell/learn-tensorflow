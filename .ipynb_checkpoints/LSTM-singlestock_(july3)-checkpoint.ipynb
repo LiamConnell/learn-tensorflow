{
 "cells": [
  {
   "cell_type": "code",
   "execution_count": 8,
   "metadata": {
    "collapsed": false
   },
   "outputs": [
    {
     "name": "stdout",
     "output_type": "stream",
     "text": [
      "Populating the interactive namespace from numpy and matplotlib\n"
     ]
    }
   ],
   "source": [
    "%pylab inline\n",
    "import matplotlib.pyplot as plt\n",
    "\n",
    "import tensorflow as tf\n",
    "from tensorflow.models.rnn import rnn, rnn_cell\n",
    "import numpy as np\n",
    "import numpy.random as rng\n",
    "\n",
    "import time\n",
    "\n",
    "import pandas.io.data as web\n",
    "from pykalman import KalmanFilter\n",
    "import numpy as np\n",
    "import pandas as pd\n",
    "import seaborn"
   ]
  },
  {
   "cell_type": "code",
   "execution_count": 9,
   "metadata": {
    "collapsed": false
   },
   "outputs": [],
   "source": [
    "\n",
    "def get_prices(symbol):\n",
    "    start, end = '2007-05-02', '2016-04-11'\n",
    "    data = web.DataReader(symbol, 'yahoo', start, end)\n",
    "    data=pd.DataFrame(data)\n",
    "    prices=data['Adj Close']\n",
    "    prices=prices.astype(float)\n",
    "    return prices\n",
    "\n",
    "def get_returns(prices):\n",
    "        return ((prices-prices.shift(-1))/prices)[:-1]\n",
    "    \n",
    "def get_data(list):\n",
    "    l = []\n",
    "    for symbol in list:\n",
    "        rets = get_returns(get_prices(symbol))\n",
    "        l.append(rets)\n",
    "    return np.array(l).T\n",
    "        \n",
    "rets = get_data(['C'])#, 'GS'])"
   ]
  },
  {
   "cell_type": "code",
   "execution_count": 10,
   "metadata": {
    "collapsed": false
   },
   "outputs": [],
   "source": [
    "def lstm_iterator(raw_data, batch_size, num_steps, data_size):\n",
    " \n",
    "  raw_data = np.array(raw_data, dtype=np.float32)\n",
    "\n",
    "  data_len = len(raw_data)\n",
    "  batch_len = data_len // batch_size\n",
    "  data = np.zeros([batch_size, batch_len, data_size], dtype=np.float32)\n",
    "  for i in range(batch_size):\n",
    "    data[i] = raw_data[batch_len * i:batch_len * (i + 1),:]\n",
    "\n",
    "  epoch_size = (batch_len - 1) // num_steps\n",
    "\n",
    "  if epoch_size == 0:\n",
    "    raise ValueError(\"epoch_size == 0, decrease batch_size or num_steps\")\n",
    "\n",
    "  for i in range(epoch_size):\n",
    "    x = data[:, i*num_steps:(i+1)*num_steps]\n",
    "    y = data[:, i*num_steps+1:(i+1)*num_steps+1]\n",
    "    yield (x, y)"
   ]
  },
  {
   "cell_type": "code",
   "execution_count": 11,
   "metadata": {
    "collapsed": false
   },
   "outputs": [],
   "source": [
    "def run_epoch(session, m, data, eval_op, verbose=False, get_out=False):\n",
    "  \"\"\"Runs the model on the given data.\"\"\"\n",
    "  epoch_size = ((len(data) // m.batch_size) - 1) // m.num_steps\n",
    "  start_time = time.time()\n",
    "  costs = 0.0\n",
    "  iters = 0\n",
    "  state = m.initial_state.eval()\n",
    "  output = []\n",
    "  inp = []\n",
    "  targ = []\n",
    "  for step, (x, y) in enumerate(lstm_iterator(data, m.batch_size, m.num_steps, m.data_size)):\n",
    "    cost, state, _ = session.run([m.cost, m.final_state, eval_op],\n",
    "                                 {m.input_data: x,\n",
    "                                  m.targets: y,\n",
    "                                  m.initial_state: state})\n",
    "    costs += cost\n",
    "    #print(cost)\n",
    "    iters += m.num_steps\n",
    "    if get_out: \n",
    "      output.append(_)\n",
    "      inp.append(x)\n",
    "      targ.append(y)\n",
    "    \n",
    "  if len(output) > 0: \n",
    "    return output, inp, targ\n",
    "\n",
    "  ''' if verbose and step % (epoch_size // 10) == 10:\n",
    "      print(\"%.3f perplexity: %.3f speed: %.0f wps\" %\n",
    "            (step * 1.0 / epoch_size, np.exp(costs / iters),\n",
    "             iters * m.batch_size / (time.time() - start_time)))\n",
    "  '''\n",
    "  return np.exp(costs / iters)\n",
    "\n"
   ]
  },
  {
   "cell_type": "code",
   "execution_count": 228,
   "metadata": {
    "collapsed": true
   },
   "outputs": [],
   "source": [
    "class SmallConfig(object):\n",
    "    \"\"\"Small config.\"\"\"\n",
    "    init_scale = 1.1\n",
    "    learning_rate = .10\n",
    "    max_grad_norm = 5\n",
    "    num_layers = 4\n",
    "    num_steps = 25\n",
    "    hidden_size = 200\n",
    "    max_epoch = 4\n",
    "    max_max_epoch = 13\n",
    "    keep_prob = 1.0\n",
    "    lr_decay = 0.9\n",
    "    batch_size = 20\n",
    "    #vocab_size = 10000\n",
    "    \n",
    "class TestConfig(object):\n",
    "  \"\"\"Tiny config, for testing.\"\"\"\n",
    "  init_scale = 0.1\n",
    "  learning_rate = 1.0\n",
    "  max_grad_norm = 1\n",
    "  num_layers = 4\n",
    "  num_steps = 25\n",
    "  hidden_size = 20\n",
    "  max_epoch = 1\n",
    "  max_max_epoch = 1\n",
    "  keep_prob = 1.0\n",
    "  lr_decay = 0.5\n",
    "  batch_size = 20\n",
    "  #vocab_size = 10000\n",
    "  #data_size= 2\n",
    "\n",
    "def get_config(test=False):\n",
    "    if test:\n",
    "        return TestConfig()\n",
    "    return SmallConfig()"
   ]
  },
  {
   "cell_type": "code",
   "execution_count": 102,
   "metadata": {
    "collapsed": true
   },
   "outputs": [],
   "source": [
    "dd = 1"
   ]
  },
  {
   "cell_type": "code",
   "execution_count": 103,
   "metadata": {
    "collapsed": false
   },
   "outputs": [],
   "source": [
    "x = np.random.random([4,5,dd])"
   ]
  },
  {
   "cell_type": "code",
   "execution_count": 104,
   "metadata": {
    "collapsed": false
   },
   "outputs": [
    {
     "data": {
      "text/plain": [
       "array([[[ 0.03907774],\n",
       "        [ 0.57996019],\n",
       "        [ 0.20334429],\n",
       "        [ 0.13027279],\n",
       "        [ 0.83341865]],\n",
       "\n",
       "       [[ 0.53236953],\n",
       "        [ 0.29799579],\n",
       "        [ 0.19613345],\n",
       "        [ 0.576422  ],\n",
       "        [ 0.05586215]],\n",
       "\n",
       "       [[ 0.60406433],\n",
       "        [ 0.62262916],\n",
       "        [ 0.48458087],\n",
       "        [ 0.3491091 ],\n",
       "        [ 0.27111317]],\n",
       "\n",
       "       [[ 0.92949602],\n",
       "        [ 0.67433766],\n",
       "        [ 0.5868352 ],\n",
       "        [ 0.31162823],\n",
       "        [ 0.80048096]]])"
      ]
     },
     "execution_count": 104,
     "metadata": {},
     "output_type": "execute_result"
    }
   ],
   "source": [
    "x"
   ]
  },
  {
   "cell_type": "code",
   "execution_count": 105,
   "metadata": {
    "collapsed": false
   },
   "outputs": [
    {
     "data": {
      "text/plain": [
       "array([[[-0.03907774,  0.        ,  0.03907774]],\n",
       "\n",
       "       [[-0.57996019,  0.        ,  0.57996019]],\n",
       "\n",
       "       [[-0.20334429,  0.        ,  0.20334429]],\n",
       "\n",
       "       [[-0.13027279,  0.        ,  0.13027279]],\n",
       "\n",
       "       [[-0.83341865,  0.        ,  0.83341865]],\n",
       "\n",
       "       [[-0.53236953,  0.        ,  0.53236953]],\n",
       "\n",
       "       [[-0.29799579,  0.        ,  0.29799579]],\n",
       "\n",
       "       [[-0.19613345,  0.        ,  0.19613345]],\n",
       "\n",
       "       [[-0.576422  ,  0.        ,  0.576422  ]],\n",
       "\n",
       "       [[-0.05586215,  0.        ,  0.05586215]],\n",
       "\n",
       "       [[-0.60406433,  0.        ,  0.60406433]],\n",
       "\n",
       "       [[-0.62262916,  0.        ,  0.62262916]],\n",
       "\n",
       "       [[-0.48458087,  0.        ,  0.48458087]],\n",
       "\n",
       "       [[-0.3491091 ,  0.        ,  0.3491091 ]],\n",
       "\n",
       "       [[-0.27111317,  0.        ,  0.27111317]],\n",
       "\n",
       "       [[-0.92949602,  0.        ,  0.92949602]],\n",
       "\n",
       "       [[-0.67433766,  0.        ,  0.67433766]],\n",
       "\n",
       "       [[-0.5868352 ,  0.        ,  0.5868352 ]],\n",
       "\n",
       "       [[-0.31162823,  0.        ,  0.31162823]],\n",
       "\n",
       "       [[-0.80048096,  0.        ,  0.80048096]]])"
      ]
     },
     "execution_count": 105,
     "metadata": {},
     "output_type": "execute_result"
    }
   ],
   "source": [
    "np.matmul(x.reshape([-1,1]) , np.array([[-1,0,1]])).reshape([-1,dd,3])"
   ]
  },
  {
   "cell_type": "code",
   "execution_count": 90,
   "metadata": {
    "collapsed": false
   },
   "outputs": [
    {
     "ename": "ValueError",
     "evalue": "operands could not be broadcast together with shapes (3,) (2,) ",
     "output_type": "error",
     "traceback": [
      "\u001b[0;31m---------------------------------------------------------------------------\u001b[0m",
      "\u001b[0;31mValueError\u001b[0m                                Traceback (most recent call last)",
      "\u001b[0;32m<ipython-input-90-7df7de4a36e5>\u001b[0m in \u001b[0;36m<module>\u001b[0;34m()\u001b[0m\n\u001b[0;32m----> 1\u001b[0;31m \u001b[0mnp\u001b[0m\u001b[0;34m.\u001b[0m\u001b[0marray\u001b[0m\u001b[0;34m(\u001b[0m\u001b[0;34m[\u001b[0m\u001b[0;34m-\u001b[0m\u001b[0;36m1\u001b[0m\u001b[0;34m,\u001b[0m\u001b[0;36m0\u001b[0m\u001b[0;34m,\u001b[0m\u001b[0;36m1\u001b[0m\u001b[0;34m]\u001b[0m\u001b[0;34m)\u001b[0m \u001b[0;34m*\u001b[0m \u001b[0mnp\u001b[0m\u001b[0;34m.\u001b[0m\u001b[0marray\u001b[0m\u001b[0;34m(\u001b[0m\u001b[0;34m[\u001b[0m\u001b[0;36m1\u001b[0m\u001b[0;34m,\u001b[0m\u001b[0;36m1\u001b[0m\u001b[0;34m]\u001b[0m\u001b[0;34m)\u001b[0m\u001b[0;34m\u001b[0m\u001b[0m\n\u001b[0m",
      "\u001b[0;31mValueError\u001b[0m: operands could not be broadcast together with shapes (3,) (2,) "
     ]
    }
   ],
   "source": [
    "np.array([-1,0,1]) * np.array([1],1])"
   ]
  },
  {
   "cell_type": "code",
   "execution_count": 225,
   "metadata": {
    "collapsed": false
   },
   "outputs": [],
   "source": [
    "class LSTMModel(object):\n",
    "    \"\"\"The PTB model.\"\"\"\n",
    "\n",
    "    def __init__(self, is_training, config):\n",
    "        self.batch_size = batch_size = config.batch_size\n",
    "        self.num_steps = num_steps = config.num_steps\n",
    "        self.data_size = data_size = config.data_size\n",
    "        size = config.hidden_size\n",
    "        \n",
    "        \n",
    "        matrix1 = tf.constant([[-1.,0.,1]])\n",
    "        matrix2 = tf.ones([1,1])\n",
    "        position_transform = tf.matmul(matrix2, matrix1)\n",
    "        #position_transform = tf.constant([[-1.,0.,1]])\n",
    "        \n",
    "        # set PLACEHOLDERS\n",
    "        self._input_data = tf.placeholder(tf.float32, [batch_size, num_steps, data_size])\n",
    "        self._targets = tf.placeholder(tf.float32, [batch_size, num_steps, data_size])\n",
    "        # set VARIABLES\n",
    "        \n",
    "        lstm_cell = tf.nn.rnn_cell.BasicLSTMCell(size, forget_bias=0.0)\n",
    "        cell = tf.nn.rnn_cell.MultiRNNCell([lstm_cell] * config.num_layers)\n",
    "        cell = tf.nn.rnn_cell.InputProjectionWrapper(cell,  size)\n",
    "        cell = tf.nn.rnn_cell.OutputProjectionWrapper(cell, 3*data_size)\n",
    "        if is_training and config.keep_prob < 1:\n",
    "            cell = tf.nn.rnn_cell.DropoutWrapper(\n",
    "                cell, output_keep_prob=config.keep_prob)\n",
    "        \n",
    "        outputs = []\n",
    "        self._initial_state = cell.zero_state(batch_size, tf.float32)\n",
    "        state = self._initial_state\n",
    "        with tf.variable_scope(\"RNN\"):\n",
    "            for time_step in range(num_steps):\n",
    "                if time_step > 0: tf.get_variable_scope().reuse_variables()\n",
    "                    \n",
    "                (cell_output, state) = cell(tf.reshape(self._input_data[:, time_step,:], [-1, data_size]), state)\n",
    "                outputs.append(cell_output)#tf.nn.softmax(cell_output))\n",
    "        #self._output = output = tf.concat(0, outputs)    # shape: [500, 3]   =   [??, data_size*3]\n",
    "        self._output = output = tf.reshape(tf.concat(1, outputs), [-1, data_size*3]) # shape: [500, 3]=[??,data_size*3]\n",
    "        self._final_state = state    #shape: [20,160]    =     [hidden size, ??]\n",
    "        \n",
    "        target_menu = tf.matmul(tf.reshape(self._targets, [-1,data_size]), position_transform) #fnality for data_size>1\n",
    "        target_menu = tf.reshape(target_menu, [-1,3*data_size])    #   shape: [500, 3]    =   [??, data_size*3]\n",
    "        \n",
    "        drets = tf.mul(target_menu, output)   # shape: [500, 3]   =   [??, data_size*3]\n",
    "        max_possible_ret = tf.reduce_max(target_menu, 1)  # shape: [500]\n",
    "\n",
    "        position = tf.cast(tf.argmax(output, 1) - 1, tf.float32)\n",
    "        drets_position = tf.mul(position, tf.reshape(self._targets, [-1]))\n",
    "        \n",
    "        \n",
    "        #ret = tf.matmul(tf.reshape(output, [1,-1]),tf.reshape(self._targets, [-1,1]))\n",
    "        #print(ret)\n",
    "\n",
    "        #set LOSS\n",
    "        '''loss = tf.nn.seq2seq.sequence_loss_by_example(\n",
    "        [outputs],\n",
    "        [tf.reshape(self._targets, [-1,1])],\n",
    "        [tf.ones([batch_size * num_steps])],\n",
    "        2)'''     #\n",
    "        #loss = tf.nn.softmax_cross_entropy_with_logits(output, tf.nn.softmax(target_menu))\n",
    "        loss=max_possible_ret-tf.reduce_sum(drets,1)#tf.nn.l2_loss(output - tf.reshape(self._targets, [-1, 1]))\n",
    "        #loss= max_possible_ret - drets\n",
    "        \n",
    "        #set COST\n",
    "        self._cost = cost = tf.reduce_sum(loss) / batch_size\n",
    "        \n",
    "        \n",
    "        if not is_training:\n",
    "            return\n",
    "        #TRAINING STEP\n",
    "        self._lr = tf.Variable(0.0, trainable=False)\n",
    "        tvars = tf.trainable_variables()\n",
    "        grads, _ = tf.clip_by_global_norm(tf.gradients(cost, tvars),\n",
    "                                      config.max_grad_norm)\n",
    "        optimizer = tf.train.GradientDescentOptimizer(self.lr)#GradientDescentOptimizer(self.lr)\n",
    "        self._train_op = optimizer.apply_gradients(zip(grads, tvars))\n",
    "        \n",
    "        \n",
    "        \n",
    "        #####TODO\n",
    "        # make sure that state rolls over to next batch\n",
    "        # whats up with grads?\n",
    "        # need softmax!\n",
    "        #normalize input (might help nonaction problem)\n",
    "        #try lm nn at the end, see line 31 of https://github.com/sherjilozair/char-rnn-tensorflow/blob/master/model.py\n",
    "        # seq2seq.rnn_decoder and seq2seq.sequence_loss_by_example\n",
    "\n",
    "    def assign_lr(self, session, lr_value):\n",
    "        session.run(tf.assign(self.lr, lr_value))\n",
    "\n",
    "    @property\n",
    "    def input_data(self):\n",
    "        return self._input_data\n",
    "\n",
    "    @property\n",
    "    def targets(self):\n",
    "        return self._targets\n",
    "\n",
    "    @property\n",
    "    def initial_state(self):\n",
    "        return self._initial_state\n",
    "\n",
    "    @property\n",
    "    def cost(self):\n",
    "        return self._cost\n",
    "\n",
    "    @property\n",
    "    def final_state(self):\n",
    "        return self._final_state\n",
    "\n",
    "    @property\n",
    "    def lr(self):\n",
    "        return self._lr\n",
    "\n",
    "    @property\n",
    "    def train_op(self):\n",
    "        return self._train_op\n",
    "    \n",
    "    @property\n",
    "    def output(self):\n",
    "        return self._output\n",
    "\n"
   ]
  },
  {
   "cell_type": "code",
   "execution_count": 226,
   "metadata": {
    "collapsed": false,
    "scrolled": false
   },
   "outputs": [
    {
     "name": "stdout",
     "output_type": "stream",
     "text": [
      "Tensor(\"model/Mul_1:0\", shape=TensorShape([Dimension(500)]), dtype=float32)\n",
      "[<tensorflow.python.ops.variables.Variable object at 0x13acd2278>, <tensorflow.python.ops.variables.Variable object at 0x13acd2438>, <tensorflow.python.ops.variables.Variable object at 0x12dc7c8d0>, <tensorflow.python.ops.variables.Variable object at 0x12dc7c588>, <tensorflow.python.ops.variables.Variable object at 0x13807cba8>, <tensorflow.python.ops.variables.Variable object at 0x13807c780>, <tensorflow.python.ops.variables.Variable object at 0x1380898d0>, <tensorflow.python.ops.variables.Variable object at 0x1380893c8>, <tensorflow.python.ops.variables.Variable object at 0x11bc0e8d0>, <tensorflow.python.ops.variables.Variable object at 0x11bc0e3c8>, <tensorflow.python.ops.variables.Variable object at 0x12f575780>, <tensorflow.python.ops.variables.Variable object at 0x12ef46c88>]\n",
      "Tensor(\"model_1/Mul_1:0\", shape=TensorShape([Dimension(500)]), dtype=float32)\n",
      "Epoch: 1 Learning rate: 0.100\n",
      "Epoch: 1 Train Perplexity: 1.029\n",
      "Epoch: 1 Valid Perplexity: 1.019\n",
      "Epoch: 2 Learning rate: 0.100\n",
      "Epoch: 2 Train Perplexity: 1.023\n",
      "Epoch: 2 Valid Perplexity: 1.019\n",
      "Epoch: 3 Learning rate: 0.100\n",
      "Epoch: 3 Train Perplexity: 1.037\n",
      "Epoch: 3 Valid Perplexity: 1.027\n",
      "Epoch: 4 Learning rate: 0.100\n",
      "Epoch: 4 Train Perplexity: 1.025\n",
      "Epoch: 4 Valid Perplexity: 1.018\n",
      "Epoch: 5 Learning rate: 0.100\n",
      "Epoch: 5 Train Perplexity: 1.028\n",
      "Epoch: 5 Valid Perplexity: 1.030\n",
      "Epoch: 6 Learning rate: 0.000\n",
      "Epoch: 6 Train Perplexity: 1.036\n",
      "Epoch: 6 Valid Perplexity: 1.030\n",
      "Epoch: 7 Learning rate: 0.000\n",
      "Epoch: 7 Train Perplexity: 1.036\n",
      "Epoch: 7 Valid Perplexity: 1.030\n",
      "Epoch: 8 Learning rate: 0.000\n",
      "Epoch: 8 Train Perplexity: 1.036\n",
      "Epoch: 8 Valid Perplexity: 1.030\n",
      "Epoch: 9 Learning rate: 0.000\n",
      "Epoch: 9 Train Perplexity: 1.036\n",
      "Epoch: 9 Valid Perplexity: 1.030\n",
      "Epoch: 10 Learning rate: 0.000\n",
      "Epoch: 10 Train Perplexity: 1.036\n",
      "Epoch: 10 Valid Perplexity: 1.030\n",
      "Epoch: 11 Learning rate: 0.000\n",
      "Epoch: 11 Train Perplexity: 1.036\n",
      "Epoch: 11 Valid Perplexity: 1.030\n",
      "Epoch: 12 Learning rate: 0.000\n",
      "Epoch: 12 Train Perplexity: 1.036\n",
      "Epoch: 12 Valid Perplexity: 1.030\n",
      "Epoch: 13 Learning rate: 0.000\n",
      "Epoch: 13 Train Perplexity: 1.036\n",
      "Epoch: 13 Valid Perplexity: 1.030\n"
     ]
    }
   ],
   "source": [
    "\n",
    "raw_data = rets[:1500], rets[:2200], rets[2200:]\n",
    "train_data, valid_data, test_data = raw_data\n",
    "#train_data =valid_data = test_data =  raw_data\n",
    "\n",
    "config = eval_config = get_config()\n",
    "eval_config = get_config(test=True)\n",
    "eval_config.batch_size = 1\n",
    "eval_config.num_steps = 1\n",
    "\n",
    "config.data_size = eval_config.data_size = rets.shape[1]\n",
    "\n",
    "with tf.Graph().as_default(), tf.Session() as session:\n",
    "    initializer = tf.random_uniform_initializer(-config.init_scale,\n",
    "                                            config.init_scale)\n",
    "    with tf.variable_scope(\"model\", reuse=None, initializer=initializer):\n",
    "        m = LSTMModel(is_training=True, config=config)\n",
    "    with tf.variable_scope(\"model\", reuse=True, initializer=initializer):\n",
    "        mvalid = LSTMModel(is_training=False, config=config)\n",
    "        #mtest = LSTMModel(is_training=False, config=eval_config)\n",
    "\n",
    "    tf.initialize_all_variables().run()\n",
    "\n",
    "    for i in range(13):#config.max_max_epoch):\n",
    "        lr_decay = config.lr_decay ** max(i - config.max_epoch, 0.0)\n",
    "        m.assign_lr(session, config.learning_rate * lr_decay)\n",
    "\n",
    "        print(\"Epoch: %d Learning rate: %.3f\" % (i + 1, session.run(m.lr)))\n",
    "        train_perplexity = run_epoch(session, m, train_data, m.train_op,\n",
    "                                   verbose=True)\n",
    "\n",
    "        print(\"Epoch: %d Train Perplexity: %.3f\" % (i + 1, train_perplexity))\n",
    "        valid_perplexity = run_epoch(session, mvalid, valid_data, tf.no_op())\n",
    "        print(\"Epoch: %d Valid Perplexity: %.3f\" % (i + 1, valid_perplexity))\n",
    "\n",
    "    test_output, test_inp, test_targ = run_epoch(session, mvalid, valid_data, mvalid.output, get_out = True)\n",
    "    #print(test_perplexity)\n",
    "    #print(\"Test Perplexity: %.3f\" % test_perplexity)\n"
   ]
  },
  {
   "cell_type": "code",
   "execution_count": 229,
   "metadata": {
    "collapsed": false,
    "scrolled": true
   },
   "outputs": [
    {
     "data": {
      "text/plain": [
       "[<matplotlib.lines.Line2D at 0x127872d30>]"
      ]
     },
     "execution_count": 229,
     "metadata": {},
     "output_type": "execute_result"
    },
    {
     "data": {
      "image/png": "[encoded data removed]",
      "text/plain": [
       "<matplotlib.figure.Figure at 0x13190d940>"
      ]
     },
     "metadata": {},
     "output_type": "display_data"
    }
   ],
   "source": [
    "plot(np.cumprod((np.argmax(test_output[0],1)-1) * test_targ[0].reshape(-1)+1))"
   ]
  },
  {
   "cell_type": "code",
   "execution_count": 214,
   "metadata": {
    "collapsed": false
   },
   "outputs": [
    {
     "data": {
      "text/plain": [
       "(500, 3)"
      ]
     },
     "execution_count": 214,
     "metadata": {},
     "output_type": "execute_result"
    }
   ],
   "source": [
    "test_output[0].shape"
   ]
  },
  {
   "cell_type": "code",
   "execution_count": 218,
   "metadata": {
    "collapsed": false,
    "scrolled": true
   },
   "outputs": [
    {
     "data": {
      "text/plain": [
       "array([ -2.59504002e-03,   3.88248474e-03,   2.96951691e-03,\n",
       "        -7.44601479e-03,   1.69992819e-02,   1.69177400e-03,\n",
       "         4.70721256e-03,   1.32415968e-03,  -4.01590280e-02,\n",
       "         2.00323318e-03,  -3.64963547e-03,   2.90904660e-03,\n",
       "        -4.37630061e-03,   1.27090258e-03,   1.45425892e-03,\n",
       "        -3.45899235e-03,   3.80993495e-03,  -5.28141344e-03,\n",
       "         1.28622735e-02,  -3.66948894e-04,   6.60424680e-03,\n",
       "         4.61680628e-03,   1.05751613e-02,   1.51884034e-02,\n",
       "        -1.54226488e-02,   1.00798355e-02,  -2.50318591e-02,\n",
       "         9.31291468e-03,   3.40505913e-02,   3.13581303e-02,\n",
       "         2.90240673e-03,   1.85849052e-02,   3.35386321e-02,\n",
       "        -5.90179348e-03,   3.98970395e-03,   1.46088153e-02,\n",
       "         1.41081400e-02,  -3.39558572e-02,  -1.40747463e-03,\n",
       "         1.35862939e-02,   4.98695113e-03,   6.89071193e-02,\n",
       "         2.02545281e-02,   4.85024862e-02,   2.28412598e-02,\n",
       "         4.76054214e-02,   1.52649088e-02,  -6.07902650e-03,\n",
       "        -1.41994311e-02,  -6.94071725e-02,   1.44857559e-02,\n",
       "        -1.02400750e-01,  -3.42222117e-02,  -6.44606585e-03,\n",
       "         5.84969968e-02,   1.17914136e-02,   4.40568626e-02,\n",
       "        -2.83245016e-02,  -1.12978511e-01,  -7.55034992e-03,\n",
       "        -1.41549092e-02,   1.14942668e-02,  -2.15946753e-02,\n",
       "         3.41463201e-02,   7.57577177e-03,  -5.51316328e-03,\n",
       "         1.47617059e-02,   3.63869853e-02,  -1.28831351e-02,\n",
       "        -2.80701462e-02,  -2.51706913e-02,  -4.49438319e-02,\n",
       "         3.18599096e-03,  -3.59566044e-03,   1.95063446e-02,\n",
       "         2.92171314e-02,  -1.30606899e-02,  -1.56950857e-02,\n",
       "        -5.29801659e-02,   4.71703103e-03,  -6.31918060e-03,\n",
       "        -2.61643101e-02,   6.68026805e-02,  -4.20764834e-02,\n",
       "        -6.55479804e-02,   7.08661154e-02,   1.05932206e-02,\n",
       "         3.74730583e-03,   3.49274538e-02,   1.51447728e-01,\n",
       "        -3.34646031e-02,   1.09206326e-01,  -1.86742663e-01,\n",
       "        -2.40240246e-01,   3.09927091e-02,   9.99559183e-04,\n",
       "         5.15257046e-02,  -2.37341747e-02,  -3.81246470e-02,\n",
       "         1.19106695e-01,  -2.81690117e-02,   5.20548299e-02,\n",
       "        -8.67059268e-03,  -1.14612589e-02,  -1.07648715e-01,\n",
       "        -1.02302041e-02,   1.51898727e-01,  -1.01492584e-01,\n",
       "         2.16802955e-02,   3.32409404e-02,   1.23209193e-01,\n",
       "         4.90195863e-02,   1.37457058e-01,   2.23107591e-01,\n",
       "        -9.74359140e-02,  -2.14953303e-01,   3.07692271e-02,\n",
       "         2.38095205e-02,   3.90243948e-01,   1.99999988e-01,\n",
       "        -1.66666657e-02,   7.37704411e-02,   9.73451659e-02,\n",
       "        -9.80397034e-03,  -1.94174722e-02,   3.71747166e-02,\n",
       "        -7.33590499e-02,  -5.03597818e-02,  -8.56164098e-02,\n",
       "         4.41640653e-02,   3.30027984e-03,   7.61589780e-02,\n",
       "         5.01792058e-02,  -5.66037856e-02,   1.07142664e-02,\n",
       "         1.44405039e-02,   1.46519765e-02,  -1.04089245e-01,\n",
       "        -8.41750875e-02,   2.48447489e-02,  -9.55415517e-03,\n",
       "        -3.15452600e-03,  -2.20126249e-02,  -1.01538435e-01,\n",
       "        -6.14525378e-02,  -1.31578799e-02,  -2.33766604e-02,\n",
       "         6.34517521e-02,  -7.85907060e-02,  -2.01005004e-02,\n",
       "         3.78378890e-02,   3.08988318e-02,   7.24637732e-02,\n",
       "        -6.24999925e-02,  -5.88238193e-03,   2.33917814e-02,\n",
       "         1.49700725e-02,  -1.82370488e-02,  -1.19403275e-02,\n",
       "         5.89970406e-03,   1.48368087e-02,   3.01212375e-03,\n",
       "        -2.71903761e-02,  -3.82352769e-02,  -3.11615430e-02,\n",
       "        -2.74721067e-03,   1.64382998e-02,  -1.11419754e-02,\n",
       "         3.03029865e-02,   5.68184629e-03,  -2.85709929e-03,\n",
       "         2.56409533e-02,  -3.50877456e-02,   2.25989521e-02,\n",
       "         5.49132191e-02,   0.00000000e+00,  -2.11639926e-02,\n",
       "        -4.14508544e-02,   1.49254464e-02,   2.77777389e-02,\n",
       "        -1.81818567e-02,  -1.02040032e-02,   4.29292023e-02,\n",
       "         3.95778455e-02,  -2.19779909e-02,  -4.03225906e-02,\n",
       "        -7.75192399e-03,   5.12823043e-03,   0.00000000e+00,\n",
       "        -2.83505786e-02,   0.00000000e+00,   7.51888426e-03,\n",
       "        -1.26262745e-02,  -2.49382830e-03,   1.99004952e-02,\n",
       "         1.26903411e-02,   2.82776952e-02,  -4.23280932e-02,\n",
       "        -1.52283991e-02,   6.75000325e-02,   0.00000000e+00,\n",
       "         4.79616271e-03,  -4.81927674e-03,  -4.79618693e-03,\n",
       "        -3.34128365e-02,  -3.69515456e-02,   1.11358445e-02,\n",
       "         3.15315723e-02,  -2.79069971e-02,   1.35747045e-02,\n",
       "         1.60549860e-02,  -6.99299434e-03,   2.31481455e-02,\n",
       "         7.10899197e-03,  -2.62529440e-02,   6.97670830e-03,\n",
       "         2.10773405e-02,   1.91387311e-02,  -1.70731805e-02,\n",
       "         1.43885361e-02,  -9.73240845e-03,  -1.20481793e-02,\n",
       "        -2.38095224e-02,  -2.79069971e-02,  -6.78731827e-03,\n",
       "         2.17870390e-03,   4.36683372e-03,   6.57893578e-03,\n",
       "        -4.41503292e-03,   1.09890206e-02,   1.55555652e-02,\n",
       "         2.25730194e-03,   0.00000000e+00,  -2.48868410e-02,\n",
       "        -8.83006584e-03,   4.37638909e-03,   6.59339502e-03,\n",
       "         2.21244502e-03,   0.00000000e+00,  -1.77384485e-02,\n",
       "         0.00000000e+00,   2.17865109e-02,  -6.68150233e-03,\n",
       "         0.00000000e+00,   8.84957891e-03,  -8.92859325e-03,\n",
       "         2.30088774e-02,  -9.05829016e-04,   2.89593358e-02,\n",
       "         1.16495918e-02,  -1.25692999e-02,  -4.38116603e-02,\n",
       "        -1.39908856e-02,   4.41531837e-02,   2.81486567e-02,\n",
       "         5.23579568e-02,   6.11285865e-02,  -4.25709821e-02,\n",
       "        -6.96557313e-02,  -1.01048052e-02,   3.96442860e-02,\n",
       "        -3.78086194e-02,   4.75835986e-02,   9.79703739e-02,\n",
       "        -5.53872250e-02,  -1.31201297e-02,  -5.30150458e-02,\n",
       "         5.34204915e-02,  -7.55176991e-02,  -5.09626269e-02,\n",
       "        -4.88505848e-02,   5.34247085e-02,  -2.74964049e-02,\n",
       "         1.65492818e-02,  -6.98173866e-02,   2.99760066e-02,\n",
       "        -1.08157787e-02,   1.10058226e-02,  -1.79289375e-02,\n",
       "        -1.67020801e-02,   4.77895886e-03,  -2.43097395e-02,\n",
       "         8.79066996e-04,   1.23166433e-02,   4.63183485e-02,\n",
       "        -3.48693281e-02,  -2.28639673e-02,  -5.88238053e-03,\n",
       "        -2.63159699e-03,  -6.29921183e-02,   3.40192579e-02,\n",
       "        -3.01051326e-02,  -1.15797492e-02,  -1.30825741e-02,\n",
       "        -2.44822185e-02,   7.35301198e-03,   2.38094479e-02,\n",
       "        -6.23304723e-03,  -8.07970297e-03,   1.73658021e-02,\n",
       "         5.86080458e-03,   3.68452806e-04,   1.29008247e-02,\n",
       "         2.20395997e-02,  -4.66004014e-02,  -4.23357673e-02,\n",
       "        -1.15546361e-02,   1.03839755e-03,   0.00000000e+00,\n",
       "        -1.38598087e-03,   4.15222254e-03,   3.47467110e-04,\n",
       "         1.04276370e-03,  -2.78357067e-03,  -7.28664733e-03,\n",
       "        -3.27247232e-02,  -2.50166692e-02,   7.80994073e-03,\n",
       "         2.95178834e-02,  -8.11086409e-03,   4.69324272e-03,\n",
       "         1.17885014e-02,  -1.94273982e-02,   8.69276747e-03,\n",
       "        -2.02359585e-03,   2.35518324e-04,   9.89161059e-03,\n",
       "        -1.87916346e-02,   1.14406003e-02,   2.83418410e-03,\n",
       "        -8.28987733e-03,   2.11416534e-03,   2.91901696e-02,\n",
       "        -1.01842564e-02,  -2.88042123e-03,  -5.74441720e-03,\n",
       "        -1.85625628e-02,  -2.57011503e-03,   1.32836048e-02,\n",
       "         4.25132364e-03,   4.98098601e-03,  -5.24555845e-03,\n",
       "        -2.03985013e-02,   1.88284852e-02,  -1.68206487e-02,\n",
       "        -3.02891503e-03,   4.18119458e-03,   4.43196855e-03,\n",
       "        -1.10122003e-02,  -2.78099049e-02,  -2.84436764e-03,\n",
       "        -1.31685026e-02,   9.59807727e-03,   3.29092853e-02,\n",
       "         2.15031952e-02,   3.05099115e-02,  -3.43310162e-02,\n",
       "        -1.29787168e-02,  -1.40726352e-02,   6.42082235e-03,\n",
       "        -5.83695108e-03,   2.07249983e-03,   9.96890571e-03,\n",
       "        -1.80407073e-02,  -2.03997809e-02,  -1.39337434e-02,\n",
       "         1.15514630e-02,  -8.26114137e-03,  -1.53876953e-02,\n",
       "        -1.96811706e-02,  -3.86022468e-04,   7.71766412e-04,\n",
       "        -1.73778366e-02,   6.45283842e-03,  -1.24164540e-02,\n",
       "         7.81703275e-03,  -1.89087708e-02,  -1.31451963e-02,\n",
       "        -1.67907123e-02,   5.25433291e-03,  -7.54594686e-04,\n",
       "         2.45054089e-03,   5.66890463e-03,   9.31202341e-03,\n",
       "         1.72645552e-03,   1.88316554e-02,  -8.42147693e-03,\n",
       "        -1.20411506e-02,   7.10033579e-03,   1.99072957e-02,\n",
       "        -3.94402072e-03,  -1.17857184e-03,   1.37333910e-03,\n",
       "         4.12580185e-03,  -2.50542685e-02,   1.53960939e-03,\n",
       "        -6.36078324e-03,  -3.83070856e-03,  -3.81607097e-04,\n",
       "         1.52586529e-03,   2.92280177e-03,   6.28111535e-04,\n",
       "         1.15231285e-02,   1.73802339e-02,  -7.33389985e-03,\n",
       "        -9.42180492e-03,   3.18194856e-03,  -5.95868006e-03,\n",
       "        -3.17321881e-03,   6.32642629e-03,   1.27334092e-02,\n",
       "         1.71973300e-03,  -7.10598100e-03,   4.70389472e-03,\n",
       "        -6.44466421e-03,  -6.18997356e-03,  -3.18205520e-03,\n",
       "        -5.92087908e-03,   5.25540859e-03,   8.45318835e-04,\n",
       "        -6.13367744e-03,  -3.99408350e-03,  -9.00335982e-03,\n",
       "         6.43280754e-03,  -1.56641454e-02,   1.93190333e-02,\n",
       "        -2.47708391e-02,   2.66463906e-02,   2.01407671e-02,\n",
       "         4.19077044e-03,  -3.14629339e-02,   3.47775742e-02,\n",
       "        -1.40902121e-03,  -6.43214490e-03,  -9.18712933e-03,\n",
       "        -1.46447904e-02,   1.11175980e-02,  -1.40039362e-02,\n",
       "        -7.58606056e-03,   4.05404437e-03,  -1.64760407e-02,\n",
       "        -4.00462467e-03,  -9.68844164e-03,  -7.14953290e-03,\n",
       "         1.12082832e-03,   5.23661450e-03,  -1.56044625e-02,\n",
       "         5.55330829e-04,   4.44530137e-03,  -2.60464917e-03,\n",
       "        -2.79383897e-03,   2.22879928e-03,   2.49441527e-02,\n",
       "        -1.14547303e-02,   9.43752378e-03,   1.02896634e-02,\n",
       "         1.07816188e-02,   3.69799021e-03,   3.71163758e-03,\n",
       "        -1.25490064e-02,   2.32375204e-03,  -1.94097043e-03,\n",
       "        -4.64938255e-03,   4.62786574e-03,   1.93721033e-03,\n",
       "        -7.18164910e-03,  -4.62520961e-03,  -5.75483218e-03,\n",
       "        -4.38678684e-03,  -1.32928521e-03,  -9.10296291e-03,\n",
       "        -1.52227273e-02,   1.75860897e-02,  -2.44960329e-03,\n",
       "         1.35338418e-02,   3.12669948e-02,   6.08208738e-02,\n",
       "         9.13783628e-03,  -4.81154248e-02,  -2.21882220e-02,\n",
       "         2.99400999e-03,  -3.75377014e-03,   4.74944152e-02,\n",
       "        -1.59010887e-02,  -7.72965723e-04,   2.31704991e-02,\n",
       "        -2.09527835e-02,   1.49080437e-02,  -3.73423472e-03,\n",
       "        -5.87409013e-04,   2.34831544e-03,  -2.00078525e-02,\n",
       "        -1.13461660e-02,   1.78740900e-02,   2.63310950e-02,\n",
       "        -8.35153554e-03,   6.50756806e-03,   5.16081462e-03,\n",
       "         1.97525416e-02,  -2.89028697e-02], dtype=float32)"
      ]
     },
     "execution_count": 218,
     "metadata": {},
     "output_type": "execute_result"
    }
   ],
   "source": [
    "test_targ[0].reshape(-1)"
   ]
  },
  {
   "cell_type": "code",
   "execution_count": 217,
   "metadata": {
    "collapsed": false
   },
   "outputs": [
    {
     "data": {
      "text/plain": [
       "array([[-0.00259504],\n",
       "       [ 0.00388248],\n",
       "       [ 0.00296952],\n",
       "       [-0.00744601],\n",
       "       [ 0.01699928],\n",
       "       [ 0.00169177],\n",
       "       [ 0.00470721],\n",
       "       [ 0.00132416],\n",
       "       [-0.04015903],\n",
       "       [ 0.00200323],\n",
       "       [-0.00364964],\n",
       "       [ 0.00290905],\n",
       "       [-0.0043763 ],\n",
       "       [ 0.0012709 ],\n",
       "       [ 0.00145426],\n",
       "       [-0.00345899],\n",
       "       [ 0.00380993],\n",
       "       [-0.00528141],\n",
       "       [ 0.01286227],\n",
       "       [-0.00036695],\n",
       "       [ 0.00660425],\n",
       "       [ 0.00461681],\n",
       "       [ 0.01057516],\n",
       "       [ 0.0151884 ],\n",
       "       [-0.01542265]], dtype=float32)"
      ]
     },
     "execution_count": 217,
     "metadata": {},
     "output_type": "execute_result"
    }
   ],
   "source": [
    "test_targ[0][0]"
   ]
  },
  {
   "cell_type": "code",
   "execution_count": 206,
   "metadata": {
    "collapsed": false
   },
   "outputs": [
    {
     "data": {
      "text/plain": [
       "array([-0.00259504,  0.00388248,  0.00296952, -0.00744601,  0.01699928,\n",
       "        0.00169177,  0.00470721,  0.00132416, -0.04015903,  0.00200323,\n",
       "       -0.00364964,  0.00290905, -0.0043763 ,  0.0012709 ,  0.00145426,\n",
       "       -0.00345899,  0.00380993, -0.00528141,  0.01286227, -0.00036695,\n",
       "        0.00660425,  0.00461681,  0.01057516,  0.0151884 , -0.01542265], dtype=float32)"
      ]
     },
     "execution_count": 206,
     "metadata": {},
     "output_type": "execute_result"
    }
   ],
   "source": [
    "test_targ[0][0].reshape(-1)"
   ]
  },
  {
   "cell_type": "code",
   "execution_count": 227,
   "metadata": {
    "collapsed": false,
    "scrolled": true
   },
   "outputs": [
    {
     "data": {
      "text/plain": [
       "[<matplotlib.lines.Line2D at 0x11b3e5860>,\n",
       " <matplotlib.lines.Line2D at 0x11b3e5c50>,\n",
       " <matplotlib.lines.Line2D at 0x11b3e5f60>]"
      ]
     },
     "execution_count": 227,
     "metadata": {},
     "output_type": "execute_result"
    },
    {
     "data": {
      "image/png": "[encoded data removed]",
      "text/plain": [
       "<matplotlib.figure.Figure at 0x137b71518>"
      ]
     },
     "metadata": {},
     "output_type": "display_data"
    }
   ],
   "source": [
    "x=0\n",
    "n = 6\n",
    "plot(test_output[0][25*x*1:25*1*(x+1)].reshape(-1,3))"
   ]
  },
  {
   "cell_type": "code",
   "execution_count": 137,
   "metadata": {
    "collapsed": false
   },
   "outputs": [
    {
     "data": {
      "text/plain": [
       "[<matplotlib.lines.Line2D at 0x12e4df7b8>]"
      ]
     },
     "execution_count": 137,
     "metadata": {},
     "output_type": "execute_result"
    },
    {
     "data": {
      "image/png": "[encoded data removed]",
      "text/plain": [
       "<matplotlib.figure.Figure at 0x12e0c1dd8>"
      ]
     },
     "metadata": {},
     "output_type": "display_data"
    }
   ],
   "source": [
    "plot(test_inp[0][0])"
   ]
  },
  {
   "cell_type": "code",
   "execution_count": 138,
   "metadata": {
    "collapsed": false
   },
   "outputs": [
    {
     "data": {
      "text/plain": [
       "[<matplotlib.lines.Line2D at 0x128dbff98>]"
      ]
     },
     "execution_count": 138,
     "metadata": {},
     "output_type": "execute_result"
    },
    {
     "data": {
      "image/png": "[encoded data removed]",
      "text/plain": [
       "<matplotlib.figure.Figure at 0x12e0c1128>"
      ]
     },
     "metadata": {},
     "output_type": "display_data"
    }
   ],
   "source": [
    "plot(test_targ[0][0])"
   ]
  },
  {
   "cell_type": "code",
   "execution_count": 167,
   "metadata": {
    "collapsed": false
   },
   "outputs": [
    {
     "data": {
      "text/plain": [
       "array([[-0.50313473, -9.14566231,  0.35615453],\n",
       "       [-0.37630498, -7.11112261, -0.70588076],\n",
       "       [-0.37363619, -7.10911226, -0.7056942 ],\n",
       "       [-0.37376261, -7.10809135, -0.70627677],\n",
       "       [-0.37625742, -7.13504505, -0.69292498],\n",
       "       [-0.37384361, -7.10783291, -0.70645559],\n",
       "       [-0.37367171, -7.107337  , -0.7067076 ],\n",
       "       [-0.3738786 , -7.10826683, -0.70620131],\n",
       "       [-0.3762539 , -7.13502169, -0.69293654],\n",
       "       [-0.37384126, -7.10775185, -0.70650387],\n",
       "       [-0.37365335, -7.1073513 , -0.70669627],\n",
       "       [-0.37384212, -7.10807276, -0.70630753],\n",
       "       [-0.37625468, -7.13503265, -0.69293034],\n",
       "       [-0.37382513, -7.10767174, -0.70654678],\n",
       "       [-0.37368315, -7.1073904 , -0.70667815],\n",
       "       [-0.37379837, -7.10780811, -0.70645642],\n",
       "       [-0.37611288, -7.13384342, -0.69351137],\n",
       "       [-0.3738367 , -7.10773849, -0.70650995],\n",
       "       [-0.3736918 , -7.10737848, -0.70668697],\n",
       "       [-0.37380508, -7.10784388, -0.70643675],\n",
       "       [-0.37624282, -7.13494444, -0.69297278],\n",
       "       [-0.37383717, -7.10773134, -0.70651484],\n",
       "       [-0.37368673, -7.10735941, -0.70669711],\n",
       "       [-0.3738032 , -7.10783863, -0.70643926],\n",
       "       [-0.37602016, -7.13306904, -0.69388962]], dtype=float32)"
      ]
     },
     "execution_count": 167,
     "metadata": {},
     "output_type": "execute_result"
    }
   ],
   "source": [
    "test_output[0][:25,]"
   ]
  },
  {
   "cell_type": "code",
   "execution_count": 119,
   "metadata": {
    "collapsed": false
   },
   "outputs": [
    {
     "data": {
      "text/plain": [
       "[<matplotlib.lines.Line2D at 0x11a744c88>]"
      ]
     },
     "execution_count": 119,
     "metadata": {},
     "output_type": "execute_result"
    },
    {
     "data": {
      "image/png": "[encoded data removed]",
      "text/plain": [
       "<matplotlib.figure.Figure at 0x1279b14e0>"
      ]
     },
     "metadata": {},
     "output_type": "display_data"
    }
   ],
   "source": [
    "plot(rets)"
   ]
  },
  {
   "cell_type": "code",
   "execution_count": 41,
   "metadata": {
    "collapsed": false
   },
   "outputs": [],
   "source": [
    "inv = test_output[0][25*x*1:25*1*(x+1)].reshape(-1,6)"
   ]
  },
  {
   "cell_type": "code",
   "execution_count": 235,
   "metadata": {
    "collapsed": false
   },
   "outputs": [
    {
     "data": {
      "text/plain": [
       "(150, 6)"
      ]
     },
     "execution_count": 235,
     "metadata": {},
     "output_type": "execute_result"
    }
   ],
   "source": [
    "test_output[0][0:25*6].reshape(-1,6).shape"
   ]
  },
  {
   "cell_type": "code",
   "execution_count": 256,
   "metadata": {
    "collapsed": false
   },
   "outputs": [
    {
     "ename": "AttributeError",
     "evalue": "'module' object has no attribute 'mul'",
     "output_type": "error",
     "traceback": [
      "\u001b[0;31m---------------------------------------------------------------------------\u001b[0m",
      "\u001b[0;31mAttributeError\u001b[0m                            Traceback (most recent call last)",
      "\u001b[0;32m<ipython-input-256-e865e56656d6>\u001b[0m in \u001b[0;36m<module>\u001b[0;34m()\u001b[0m\n\u001b[0;32m----> 1\u001b[0;31m \u001b[0mnp\u001b[0m\u001b[0;34m.\u001b[0m\u001b[0mmul\u001b[0m\u001b[0;34m(\u001b[0m\u001b[0minv\u001b[0m\u001b[0;34m[\u001b[0m\u001b[0;34m:\u001b[0m\u001b[0;34m,\u001b[0m\u001b[0;34m:\u001b[0m\u001b[0;34m]\u001b[0m\u001b[0;34m)\u001b[0m\u001b[0;34m\u001b[0m\u001b[0m\n\u001b[0m",
      "\u001b[0;31mAttributeError\u001b[0m: 'module' object has no attribute 'mul'"
     ]
    }
   ],
   "source": [
    "np.mul(inv[:,:])"
   ]
  },
  {
   "cell_type": "code",
   "execution_count": 42,
   "metadata": {
    "collapsed": false
   },
   "outputs": [
    {
     "data": {
      "text/plain": [
       "array([ -6.98216486,  -6.98215246,  -6.98232746,  -6.98221302,\n",
       "        -6.98204231,  -6.98219585,  -6.98207426,  -6.98217106,\n",
       "        -6.98215723,  -6.98219633,  -6.98216343,  -6.98217678,\n",
       "        -6.98221302,  -6.98215961,  -6.98213148,  -6.9821701 ,\n",
       "        -6.98215151,  -6.98215818,  -6.98216295,  -6.98211956,\n",
       "       -14.57940769, -14.57942486, -14.57956505, -14.57947636, -14.57931995], dtype=float32)"
      ]
     },
     "execution_count": 42,
     "metadata": {},
     "output_type": "execute_result"
    }
   ],
   "source": [
    "np.sum(inv,1)"
   ]
  },
  {
   "cell_type": "code",
   "execution_count": null,
   "metadata": {
    "collapsed": true
   },
   "outputs": [],
   "source": []
  }
 ],
 "metadata": {
  "kernelspec": {
   "display_name": "Python 3",
   "language": "python",
   "name": "python3"
  },
  "language_info": {
   "codemirror_mode": {
    "name": "ipython",
    "version": 3
   },
   "file_extension": ".py",
   "mimetype": "text/x-python",
   "name": "python",
   "nbconvert_exporter": "python",
   "pygments_lexer": "ipython3",
   "version": "3.4.4"
  }
 },
 "nbformat": 4,
 "nbformat_minor": 0
}
