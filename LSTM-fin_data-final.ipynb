{
 "cells": [
  {
   "cell_type": "code",
   "execution_count": 1,
   "metadata": {
    "collapsed": false
   },
   "outputs": [
    {
     "name": "stdout",
     "output_type": "stream",
     "text": [
      "Populating the interactive namespace from numpy and matplotlib\n"
     ]
    }
   ],
   "source": [
    "%pylab inline\n",
    "import matplotlib.pyplot as plt\n",
    "\n",
    "import tensorflow as tf\n",
    "from tensorflow.models.rnn import rnn, rnn_cell\n",
    "import numpy as np\n",
    "import numpy.random as rng\n",
    "\n",
    "import time\n",
    "\n",
    "import pandas.io.data as web\n",
    "from pykalman import KalmanFilter\n",
    "import numpy as np\n",
    "import pandas as pd"
   ]
  },
  {
   "cell_type": "code",
   "execution_count": 294,
   "metadata": {
    "collapsed": false
   },
   "outputs": [],
   "source": [
    "\n",
    "def get_prices(symbol):\n",
    "    start, end = '2007-05-02', '2016-04-11'\n",
    "    data = web.DataReader(symbol, 'yahoo', start, end)\n",
    "    data=pd.DataFrame(data)\n",
    "    prices=data['Adj Close']\n",
    "    prices=prices.astype(float)\n",
    "    return prices\n",
    "\n",
    "def get_returns(prices):\n",
    "        return ((prices-prices.shift(-1))/prices)[:-1]\n",
    "    \n",
    "def get_data(list):\n",
    "    l = []\n",
    "    for symbol in list:\n",
    "        rets = get_returns(get_prices(symbol))\n",
    "        l.append(rets)\n",
    "    return np.array(l).T\n",
    "        \n",
    "rets = get_data(['C'])#, 'GS'])"
   ]
  },
  {
   "cell_type": "code",
   "execution_count": 295,
   "metadata": {
    "collapsed": false
   },
   "outputs": [],
   "source": [
    "def lstm_iterator(raw_data, batch_size, num_steps, data_size):\n",
    " \n",
    "  raw_data = np.array(raw_data, dtype=np.float32)\n",
    "\n",
    "  data_len = len(raw_data)\n",
    "  batch_len = data_len // batch_size\n",
    "  data = np.zeros([batch_size, batch_len, data_size], dtype=np.float32)\n",
    "  for i in range(batch_size):\n",
    "    data[i] = raw_data[batch_len * i:batch_len * (i + 1),:]\n",
    "\n",
    "  epoch_size = (batch_len - 1) // num_steps\n",
    "\n",
    "  if epoch_size == 0:\n",
    "    raise ValueError(\"epoch_size == 0, decrease batch_size or num_steps\")\n",
    "\n",
    "  for i in range(epoch_size):\n",
    "    x = data[:, i*num_steps:(i+1)*num_steps]\n",
    "    y = data[:, i*num_steps+1:(i+1)*num_steps+1]\n",
    "    yield (x, y)"
   ]
  },
  {
   "cell_type": "code",
   "execution_count": 296,
   "metadata": {
    "collapsed": false
   },
   "outputs": [],
   "source": [
    "def run_epoch(session, m, data, eval_op, verbose=False, get_out=False):\n",
    "  \"\"\"Runs the model on the given data.\"\"\"\n",
    "  epoch_size = ((len(data) // m.batch_size) - 1) // m.num_steps\n",
    "  start_time = time.time()\n",
    "  costs = 0.0\n",
    "  iters = 0\n",
    "  state = m.initial_state.eval()\n",
    "  output = []\n",
    "  inp = []\n",
    "  targ = []\n",
    "  for step, (x, y) in enumerate(lstm_iterator(data, m.batch_size, m.num_steps, m.data_size)):\n",
    "    cost, state, _ = session.run([m.cost, m.final_state, eval_op],\n",
    "                                 {m.input_data: x,\n",
    "                                  m.targets: y,\n",
    "                                  m.initial_state: state})\n",
    "    costs += cost\n",
    "    iters += m.num_steps\n",
    "    if get_out: \n",
    "      output.append(_)\n",
    "      inp.append(x)\n",
    "      targ.append(y)\n",
    "    \n",
    "  if len(output) > 0: \n",
    "    return output, inp, targ\n",
    "\n",
    "  ''' if verbose and step % (epoch_size // 10) == 10:\n",
    "      print(\"%.3f perplexity: %.3f speed: %.0f wps\" %\n",
    "            (step * 1.0 / epoch_size, np.exp(costs / iters),\n",
    "             iters * m.batch_size / (time.time() - start_time)))\n",
    "  '''\n",
    "  return np.exp(costs / iters)\n",
    "\n"
   ]
  },
  {
   "cell_type": "code",
   "execution_count": 297,
   "metadata": {
    "collapsed": true
   },
   "outputs": [],
   "source": [
    "class SmallConfig(object):\n",
    "    \"\"\"Small config.\"\"\"\n",
    "    init_scale = 0.1\n",
    "    learning_rate = 1.0\n",
    "    max_grad_norm = 5\n",
    "    num_layers = 2\n",
    "    num_steps = 25\n",
    "    hidden_size = 20\n",
    "    max_epoch = 4\n",
    "    max_max_epoch = 13\n",
    "    keep_prob = 0.5\n",
    "    lr_decay = 0.5\n",
    "    batch_size = 20\n",
    "    #vocab_size = 10000\n",
    "    #data_size = 2\n",
    "    \n",
    "class TestConfig(object):\n",
    "  \"\"\"Tiny config, for testing.\"\"\"\n",
    "  init_scale = 0.1\n",
    "  learning_rate = 1.0\n",
    "  max_grad_norm = 1\n",
    "  num_layers = 1\n",
    "  num_steps = 2\n",
    "  hidden_size = 20\n",
    "  max_epoch = 1\n",
    "  max_max_epoch = 1\n",
    "  keep_prob = 1.0\n",
    "  lr_decay = 0.5\n",
    "  batch_size = 20\n",
    "  #vocab_size = 10000\n",
    "  #data_size= 2\n",
    "\n",
    "def get_config(test=False):\n",
    "    if test:\n",
    "        return TestConfig()\n",
    "    return SmallConfig()"
   ]
  },
  {
   "cell_type": "code",
   "execution_count": 285,
   "metadata": {
    "collapsed": true
   },
   "outputs": [],
   "source": [
    "tf.nn.seq2seq.sequence_loss_by_example?"
   ]
  },
  {
   "cell_type": "code",
   "execution_count": 301,
   "metadata": {
    "collapsed": false
   },
   "outputs": [],
   "source": [
    "class LSTMModel(object):\n",
    "    \"\"\"The PTB model.\"\"\"\n",
    "\n",
    "    def __init__(self, is_training, config):\n",
    "        self.batch_size = batch_size = config.batch_size\n",
    "        self.num_steps = num_steps = config.num_steps\n",
    "        self.data_size = data_size = config.data_size\n",
    "        size = config.hidden_size\n",
    "        # set PLACEHOLDERS\n",
    "        self._input_data = tf.placeholder(tf.float32, [batch_size, num_steps, data_size])\n",
    "        self._targets = tf.placeholder(tf.float32, [batch_size, num_steps, data_size])\n",
    "        # set VARIABLES\n",
    "        lstm_cell = tf.nn.rnn_cell.BasicLSTMCell(size, forget_bias=0.0)\n",
    "        cell = tf.nn.rnn_cell.MultiRNNCell([lstm_cell] * config.num_layers)\n",
    "        cell = tf.nn.rnn_cell.InputProjectionWrapper(cell,  size)\n",
    "        cell = tf.nn.rnn_cell.OutputProjectionWrapper(cell, data_size)\n",
    "        if is_training and config.keep_prob < 1:\n",
    "            cell = tf.nn.rnn_cell.DropoutWrapper(\n",
    "                cell, output_keep_prob=config.keep_prob)\n",
    "        \n",
    "        outputs = []\n",
    "        self._initial_state = cell.zero_state(batch_size, tf.float32)\n",
    "        state = self._initial_state\n",
    "        with tf.variable_scope(\"RNN\"):\n",
    "            for time_step in range(num_steps):\n",
    "                if time_step > 0: tf.get_variable_scope().reuse_variables()\n",
    "                    \n",
    "                (cell_output, state) = cell(tf.reshape(self._input_data[:, time_step,:], [-1, data_size]), state)\n",
    "                \n",
    "                outputs.append(cell_output)\n",
    "        self._output = output = tf.reshape(tf.concat(1, outputs), [-1])\n",
    "        self._final_state = state\n",
    "\n",
    "        #set LOSS\n",
    "        '''loss = tf.nn.seq2seq.sequence_loss_by_example(\n",
    "        [outputs],\n",
    "        [tf.reshape(self._targets, [-1,1])],\n",
    "        [tf.ones([batch_size * num_steps])],\n",
    "        2)'''     #\n",
    "        loss=tf.nn.l2_loss(output - tf.reshape(self._targets, [-1, 1]))\n",
    "        #set COST\n",
    "        self._cost = cost = tf.reduce_sum(loss) / batch_size\n",
    "        \n",
    "        if not is_training:\n",
    "            return\n",
    "        #TRAINING STEP\n",
    "        self._lr = tf.Variable(0.0, trainable=False)\n",
    "        tvars = tf.trainable_variables()\n",
    "        grads, _ = tf.clip_by_global_norm(tf.gradients(cost, tvars),\n",
    "                                      config.max_grad_norm)\n",
    "        optimizer = tf.train.GradientDescentOptimizer(self.lr)\n",
    "        self._train_op = optimizer.apply_gradients(zip(grads, tvars))\n",
    "\n",
    "    def assign_lr(self, session, lr_value):\n",
    "        session.run(tf.assign(self.lr, lr_value))\n",
    "\n",
    "    @property\n",
    "    def input_data(self):\n",
    "        return self._input_data\n",
    "\n",
    "    @property\n",
    "    def targets(self):\n",
    "        return self._targets\n",
    "\n",
    "    @property\n",
    "    def initial_state(self):\n",
    "        return self._initial_state\n",
    "\n",
    "    @property\n",
    "    def cost(self):\n",
    "        return self._cost\n",
    "\n",
    "    @property\n",
    "    def final_state(self):\n",
    "        return self._final_state\n",
    "\n",
    "    @property\n",
    "    def lr(self):\n",
    "        return self._lr\n",
    "\n",
    "    @property\n",
    "    def train_op(self):\n",
    "        return self._train_op\n",
    "    \n",
    "    @property\n",
    "    def output(self):\n",
    "        return self._output\n",
    "\n"
   ]
  },
  {
   "cell_type": "code",
   "execution_count": 302,
   "metadata": {
    "collapsed": false,
    "scrolled": false
   },
   "outputs": [
    {
     "name": "stdout",
     "output_type": "stream",
     "text": [
      "Epoch: 1 Learning rate: 1.000\n",
      "Epoch: 1 Train Perplexity: inf\n",
      "Epoch: 1 Valid Perplexity: 5444.707\n",
      "Epoch: 2 Learning rate: 1.000\n",
      "Epoch: 2 Train Perplexity: inf\n",
      "Epoch: 2 Valid Perplexity: 14.780\n",
      "Epoch: 3 Learning rate: 1.000\n",
      "Epoch: 3 Train Perplexity: inf\n",
      "Epoch: 3 Valid Perplexity: 127362928542113924142857485025280.000\n",
      "Epoch: 4 Learning rate: 1.000\n",
      "Epoch: 4 Train Perplexity: inf\n",
      "Epoch: 4 Valid Perplexity: 5.718\n",
      "Epoch: 5 Learning rate: 1.000\n",
      "Epoch: 5 Train Perplexity: inf\n",
      "Epoch: 5 Valid Perplexity: 53177623531068.891\n",
      "Epoch: 6 Learning rate: 0.500\n",
      "Epoch: 6 Train Perplexity: inf\n",
      "Epoch: 6 Valid Perplexity: 1789258524.166\n",
      "Epoch: 7 Learning rate: 0.250\n",
      "Epoch: 7 Train Perplexity: 57413926025803813457298162216403219983872800988221191278321984889944128385288511833722625286732286155864210066637940850688.000\n",
      "Epoch: 7 Valid Perplexity: 1403217556.701\n",
      "Epoch: 8 Learning rate: 0.125\n",
      "Epoch: 8 Train Perplexity: 10880373889910194569216.000\n",
      "Epoch: 8 Valid Perplexity: 1373234262.818\n",
      "Epoch: 9 Learning rate: 0.062\n",
      "Epoch: 9 Train Perplexity: 738180564.797\n",
      "Epoch: 9 Valid Perplexity: 1369741925.636\n",
      "Epoch: 10 Learning rate: 0.031\n",
      "Epoch: 10 Train Perplexity: 107695654622.435\n",
      "Epoch: 10 Valid Perplexity: 1.922\n",
      "Epoch: 11 Learning rate: 0.016\n",
      "Epoch: 11 Train Perplexity: 4.510\n",
      "Epoch: 11 Valid Perplexity: 1.922\n",
      "Epoch: 12 Learning rate: 0.008\n",
      "Epoch: 12 Train Perplexity: 2.433\n",
      "Epoch: 12 Valid Perplexity: 1.922\n",
      "Epoch: 13 Learning rate: 0.004\n",
      "Epoch: 13 Train Perplexity: 2.457\n",
      "Epoch: 13 Valid Perplexity: 1.563\n"
     ]
    }
   ],
   "source": [
    "\n",
    "raw_data = rets[:1500], rets[:2200], rets[2200:]\n",
    "train_data, valid_data, test_data = raw_data\n",
    "#train_data =valid_data = test_data =  raw_data\n",
    "\n",
    "config = eval_config = get_config()\n",
    "eval_config = get_config(test=True)\n",
    "eval_config.batch_size = 1\n",
    "eval_config.num_steps = 1\n",
    "\n",
    "config.data_size = eval_config.data_size = rets.shape[1]\n",
    "\n",
    "with tf.Graph().as_default(), tf.Session() as session:\n",
    "    initializer = tf.random_uniform_initializer(-config.init_scale,\n",
    "                                            config.init_scale)\n",
    "    with tf.variable_scope(\"model\", reuse=None, initializer=initializer):\n",
    "        m = LSTMModel(is_training=True, config=config)\n",
    "    with tf.variable_scope(\"model\", reuse=True, initializer=initializer):\n",
    "        mvalid = LSTMModel(is_training=False, config=config)\n",
    "        mtest = LSTMModel(is_training=False, config=eval_config)\n",
    "\n",
    "    tf.initialize_all_variables().run()\n",
    "\n",
    "    for i in range(config.max_max_epoch):\n",
    "        lr_decay = config.lr_decay ** max(i - config.max_epoch, 0.0)\n",
    "        m.assign_lr(session, config.learning_rate * lr_decay)\n",
    "\n",
    "        print(\"Epoch: %d Learning rate: %.3f\" % (i + 1, session.run(m.lr)))\n",
    "        train_perplexity = run_epoch(session, m, train_data, m.train_op,\n",
    "                                   verbose=True)\n",
    "\n",
    "        print(\"Epoch: %d Train Perplexity: %.3f\" % (i + 1, train_perplexity))\n",
    "        valid_perplexity = run_epoch(session, mvalid, valid_data, tf.no_op())\n",
    "        print(\"Epoch: %d Valid Perplexity: %.3f\" % (i + 1, valid_perplexity))\n",
    "\n",
    "    test_output, test_inp, test_targ = run_epoch(session, mvalid, valid_data, mvalid.output, get_out = True)\n",
    "    #print(test_perplexity)\n",
    "    #print(\"Test Perplexity: %.3f\" % test_perplexity)\n"
   ]
  },
  {
   "cell_type": "code",
   "execution_count": 303,
   "metadata": {
    "collapsed": false
   },
   "outputs": [
    {
     "data": {
      "text/plain": [
       "[<matplotlib.lines.Line2D at 0x12597d8d0>]"
      ]
     },
     "execution_count": 303,
     "metadata": {},
     "output_type": "execute_result"
    },
    {
     "data": {
      "image/png": "[encoded data removed]",
      "text/plain": [
       "<matplotlib.figure.Figure at 0x1118ed9b0>"
      ]
     },
     "metadata": {},
     "output_type": "display_data"
    }
   ],
   "source": [
    "plot(test_inp[0][0])"
   ]
  },
  {
   "cell_type": "code",
   "execution_count": 304,
   "metadata": {
    "collapsed": false
   },
   "outputs": [
    {
     "data": {
      "text/plain": [
       "[<matplotlib.lines.Line2D at 0x1297805c0>]"
      ]
     },
     "execution_count": 304,
     "metadata": {},
     "output_type": "execute_result"
    },
    {
     "data": {
      "image/png": "[encoded data removed]",
      "text/plain": [
       "<matplotlib.figure.Figure at 0x1118ed978>"
      ]
     },
     "metadata": {},
     "output_type": "display_data"
    }
   ],
   "source": [
    "plot(test_targ[0][0])"
   ]
  },
  {
   "cell_type": "code",
   "execution_count": 308,
   "metadata": {
    "collapsed": false
   },
   "outputs": [
    {
     "data": {
      "text/plain": [
       "[<matplotlib.lines.Line2D at 0x1264fd3c8>]"
      ]
     },
     "execution_count": 308,
     "metadata": {},
     "output_type": "execute_result"
    },
    {
     "data": {
      "image/png": "[encoded data removed]",
      "text/plain": [
       "<matplotlib.figure.Figure at 0x12a1f3a90>"
      ]
     },
     "metadata": {},
     "output_type": "display_data"
    }
   ],
   "source": [
    "x=0\n",
    "plot(test_output[0][25*x:25*(x+1)].reshape(-1,1))"
   ]
  }
 ],
 "metadata": {
  "kernelspec": {
   "display_name": "Python 3",
   "language": "python",
   "name": "python3"
  },
  "language_info": {
   "codemirror_mode": {
    "name": "ipython",
    "version": 3
   },
   "file_extension": ".py",
   "mimetype": "text/x-python",
   "name": "python",
   "nbconvert_exporter": "python",
   "pygments_lexer": "ipython3",
   "version": "3.4.4"
  }
 },
 "nbformat": 4,
 "nbformat_minor": 0
}
