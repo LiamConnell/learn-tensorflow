{
 "cells": [
  {
   "cell_type": "code",
   "execution_count": 1,
   "metadata": {
    "collapsed": false
   },
   "outputs": [
    {
     "name": "stdout",
     "output_type": "stream",
     "text": [
      "Populating the interactive namespace from numpy and matplotlib\n"
     ]
    }
   ],
   "source": [
    "%pylab inline\n",
    "import matplotlib.pyplot as plt\n",
    "\n",
    "import tensorflow as tf\n",
    "from tensorflow.models.rnn import rnn, rnn_cell\n",
    "import numpy as np\n",
    "import numpy.random as rng\n",
    "\n",
    "import time\n",
    "\n",
    "import pandas.io.data as web\n",
    "from pykalman import KalmanFilter\n",
    "import numpy as np\n",
    "import pandas as pd\n",
    "import seaborn"
   ]
  },
  {
   "cell_type": "code",
   "execution_count": 91,
   "metadata": {
    "collapsed": false
   },
   "outputs": [],
   "source": [
    "\n",
    "def get_prices(symbol):\n",
    "    start, end = '2007-05-02', '2016-04-11'\n",
    "    data = web.DataReader(symbol, 'yahoo', start, end)\n",
    "    data=pd.DataFrame(data)\n",
    "    prices=data['Adj Close']\n",
    "    prices=prices.astype(float)\n",
    "    return prices\n",
    "\n",
    "def get_returns(prices):\n",
    "        return ((prices-prices.shift(-1))/prices)[:-1]\n",
    "    \n",
    "def get_data(list):\n",
    "    l = []\n",
    "    for symbol in list:\n",
    "        rets = get_returns(get_prices(symbol))\n",
    "        l.append(rets)\n",
    "    return np.array(l).T\n",
    "        \n",
    "rets = get_data(['C'])#, 'GS'])"
   ]
  },
  {
   "cell_type": "code",
   "execution_count": 3,
   "metadata": {
    "collapsed": false
   },
   "outputs": [],
   "source": [
    "def lstm_iterator(raw_data, batch_size, num_steps, data_size):\n",
    " \n",
    "  raw_data = np.array(raw_data, dtype=np.float32)\n",
    "\n",
    "  data_len = len(raw_data)\n",
    "  batch_len = data_len // batch_size\n",
    "  data = np.zeros([batch_size, batch_len, data_size], dtype=np.float32)\n",
    "  for i in range(batch_size):\n",
    "    data[i] = raw_data[batch_len * i:batch_len * (i + 1),:]\n",
    "\n",
    "  epoch_size = (batch_len - 1) // num_steps\n",
    "\n",
    "  if epoch_size == 0:\n",
    "    raise ValueError(\"epoch_size == 0, decrease batch_size or num_steps\")\n",
    "\n",
    "  for i in range(epoch_size):\n",
    "    x = data[:, i*num_steps:(i+1)*num_steps]\n",
    "    y = data[:, i*num_steps+1:(i+1)*num_steps+1]\n",
    "    yield (x, y)"
   ]
  },
  {
   "cell_type": "code",
   "execution_count": 54,
   "metadata": {
    "collapsed": false
   },
   "outputs": [],
   "source": [
    "def run_epoch(session, m, data, eval_op, verbose=False, get_out=False):\n",
    "  \"\"\"Runs the model on the given data.\"\"\"\n",
    "  epoch_size = ((len(data) // m.batch_size) - 1) // m.num_steps\n",
    "  start_time = time.time()\n",
    "  costs = 0.0\n",
    "  iters = 0\n",
    "  state = m.initial_state.eval()\n",
    "  output = []\n",
    "  inp = []\n",
    "  targ = []\n",
    "  for step, (x, y) in enumerate(lstm_iterator(data, m.batch_size, m.num_steps, m.data_size)):\n",
    "    cost, state, _ = session.run([m.cost, m.final_state, eval_op],\n",
    "                                 {m.input_data: x,\n",
    "                                  m.targets: y,\n",
    "                                  m.initial_state: state})\n",
    "    costs += cost\n",
    "    #print(cost)\n",
    "    iters += m.num_steps\n",
    "    if get_out: \n",
    "      output.append(_)\n",
    "      inp.append(x)\n",
    "      targ.append(y)\n",
    "    \n",
    "  if len(output) > 0: \n",
    "    return output, inp, targ\n",
    "\n",
    "  ''' if verbose and step % (epoch_size // 10) == 10:\n",
    "      print(\"%.3f perplexity: %.3f speed: %.0f wps\" %\n",
    "            (step * 1.0 / epoch_size, np.exp(costs / iters),\n",
    "             iters * m.batch_size / (time.time() - start_time)))\n",
    "  '''\n",
    "  return np.exp(costs / iters)\n",
    "\n"
   ]
  },
  {
   "cell_type": "code",
   "execution_count": 186,
   "metadata": {
    "collapsed": true
   },
   "outputs": [],
   "source": [
    "class SmallConfig(object):\n",
    "    \"\"\"Small config.\"\"\"\n",
    "    init_scale = 0.1\n",
    "    learning_rate = 1.0\n",
    "    max_grad_norm = 5\n",
    "    num_layers = 4\n",
    "    num_steps = 25\n",
    "    hidden_size = 200\n",
    "    max_epoch = 4\n",
    "    max_max_epoch = 13\n",
    "    keep_prob = 1.0\n",
    "    lr_decay = 0.5\n",
    "    batch_size = 20\n",
    "    #vocab_size = 10000\n",
    "    \n",
    "class TestConfig(object):\n",
    "  \"\"\"Tiny config, for testing.\"\"\"\n",
    "  init_scale = 0.1\n",
    "  learning_rate = 1.0\n",
    "  max_grad_norm = 1\n",
    "  num_layers = 4\n",
    "  num_steps = 25\n",
    "  hidden_size = 20\n",
    "  max_epoch = 1\n",
    "  max_max_epoch = 1\n",
    "  keep_prob = 1.0\n",
    "  lr_decay = 0.5\n",
    "  batch_size = 20\n",
    "  #vocab_size = 10000\n",
    "  #data_size= 2\n",
    "\n",
    "def get_config(test=False):\n",
    "    if test:\n",
    "        return TestConfig()\n",
    "    return SmallConfig()"
   ]
  },
  {
   "cell_type": "code",
   "execution_count": 189,
   "metadata": {
    "collapsed": false
   },
   "outputs": [],
   "source": [
    "class LSTMModel(object):\n",
    "    \"\"\"The PTB model.\"\"\"\n",
    "\n",
    "    def __init__(self, is_training, config):\n",
    "        self.batch_size = batch_size = config.batch_size\n",
    "        self.num_steps = num_steps = config.num_steps\n",
    "        self.data_size = data_size = config.data_size\n",
    "        size = config.hidden_size\n",
    "        \n",
    "        \n",
    "        matrix1 = tf.constant([[-1.,0.,1]])\n",
    "        matrix2 = tf.ones([1,1])\n",
    "        position_transform = tf.matmul(matrix2, matrix1)\n",
    "        #position_transform = tf.constant([[-1.,0.,1]])\n",
    "        \n",
    "        # set PLACEHOLDERS\n",
    "        self._input_data = tf.placeholder(tf.float32, [batch_size, num_steps, data_size])\n",
    "        self._targets = tf.placeholder(tf.float32, [batch_size, num_steps, data_size])\n",
    "        # set VARIABLES\n",
    "        lstm_cell = tf.nn.rnn_cell.BasicLSTMCell(size, forget_bias=0.0)\n",
    "        cell = tf.nn.rnn_cell.MultiRNNCell([lstm_cell] * config.num_layers)\n",
    "        cell = tf.nn.rnn_cell.InputProjectionWrapper(cell,  size)\n",
    "        cell = tf.nn.rnn_cell.OutputProjectionWrapper(cell, 3*data_size)\n",
    "        if is_training and config.keep_prob < 1:\n",
    "            cell = tf.nn.rnn_cell.DropoutWrapper(\n",
    "                cell, output_keep_prob=config.keep_prob)\n",
    "        \n",
    "        outputs = []\n",
    "        self._initial_state = cell.zero_state(batch_size, tf.float32)\n",
    "        state = self._initial_state\n",
    "        with tf.variable_scope(\"RNN\"):\n",
    "            for time_step in range(num_steps):\n",
    "                if time_step > 0: tf.get_variable_scope().reuse_variables()\n",
    "                    \n",
    "                (cell_output, state) = cell(tf.reshape(self._input_data[:, time_step,:], [-1, data_size]), state)\n",
    "                outputs.append(tf.nn.softmax(cell_output))\n",
    "        self._output = output = tf.concat(0, outputs)    # shape: [500, 3]   =   [??, data_size*3]\n",
    "        self._final_state = state    #shape: [20,160]    =     [hidden size, ??]\n",
    "        \n",
    "        target_menu = tf.matmul(tf.reshape(self._targets, [-1,1]), position_transform)\n",
    "        target_menu = tf.reshape(target_menu, [-1,3*data_size])    #   shape: [500, 3]    =   [??, data_size*3]\n",
    "        \n",
    "        drets = tf.mul(target_menu, output)   # shape: [500, 3]   =   [??, data_size*3]\n",
    "        max_possible_ret = tf.reduce_max(target_menu, 1)  # shape: [500]\n",
    "\n",
    "        position = tf.cast(tf.argmax(output, 1) - 1, tf.float32)\n",
    "        drets_position = tf.mul(position, tf.reshape(self._targets, [-1]))\n",
    "        \n",
    "        \n",
    "        print(drets_position)\n",
    "        #ret = tf.matmul(tf.reshape(output, [1,-1]),tf.reshape(self._targets, [-1,1]))\n",
    "        #print(ret)\n",
    "\n",
    "        #set LOSS\n",
    "        '''loss = tf.nn.seq2seq.sequence_loss_by_example(\n",
    "        [outputs],\n",
    "        [tf.reshape(self._targets, [-1,1])],\n",
    "        [tf.ones([batch_size * num_steps])],\n",
    "        2)'''     #\n",
    "        loss=max_possible_ret-tf.reduce_sum(drets,1)#tf.nn.l2_loss(output - tf.reshape(self._targets, [-1, 1]))\n",
    "        #loss= max_possible_ret - drets\n",
    "        \n",
    "        #set COST\n",
    "        self._cost = cost = tf.reduce_sum(loss) / batch_size\n",
    "        \n",
    "        #print(cost.eval())\n",
    "        \n",
    "        if not is_training:\n",
    "            return\n",
    "        #TRAINING STEP\n",
    "        self._lr = tf.Variable(0.0, trainable=False)\n",
    "        tvars = tf.trainable_variables()\n",
    "        grads, _ = tf.clip_by_global_norm(tf.gradients(cost, tvars),\n",
    "                                      config.max_grad_norm)\n",
    "        optimizer = tf.train.AdamOptimizer(self.lr)#GradientDescentOptimizer(self.lr)\n",
    "        self._train_op = optimizer.apply_gradients(zip(grads, tvars))\n",
    "        \n",
    "        \n",
    "        \n",
    "        #####TODO\n",
    "        # make sure that state rolls over to next batch\n",
    "        # whats up with grads?\n",
    "        # need softmax!\n",
    "        #normalize input (might help nonaction problem)\n",
    "        #try lm nn at the end, see line 31 of https://github.com/sherjilozair/char-rnn-tensorflow/blob/master/model.py\n",
    "        # seq2seq.rnn_decoder and seq2seq.sequence_loss_by_example\n",
    "\n",
    "    def assign_lr(self, session, lr_value):\n",
    "        session.run(tf.assign(self.lr, lr_value))\n",
    "\n",
    "    @property\n",
    "    def input_data(self):\n",
    "        return self._input_data\n",
    "\n",
    "    @property\n",
    "    def targets(self):\n",
    "        return self._targets\n",
    "\n",
    "    @property\n",
    "    def initial_state(self):\n",
    "        return self._initial_state\n",
    "\n",
    "    @property\n",
    "    def cost(self):\n",
    "        return self._cost\n",
    "\n",
    "    @property\n",
    "    def final_state(self):\n",
    "        return self._final_state\n",
    "\n",
    "    @property\n",
    "    def lr(self):\n",
    "        return self._lr\n",
    "\n",
    "    @property\n",
    "    def train_op(self):\n",
    "        return self._train_op\n",
    "    \n",
    "    @property\n",
    "    def output(self):\n",
    "        return self._output\n",
    "\n"
   ]
  },
  {
   "cell_type": "code",
   "execution_count": 190,
   "metadata": {
    "collapsed": false,
    "scrolled": true
   },
   "outputs": [
    {
     "name": "stdout",
     "output_type": "stream",
     "text": [
      "Tensor(\"model/Mul_1:0\", shape=TensorShape([Dimension(500)]), dtype=float32)\n",
      "Tensor(\"model_1/Mul_1:0\", shape=TensorShape([Dimension(500)]), dtype=float32)\n",
      "Epoch: 1 Learning rate: 1.000\n",
      "Epoch: 1 Train Perplexity: 1.028\n",
      "Epoch: 1 Valid Perplexity: 1.023\n",
      "Epoch: 2 Learning rate: 1.000\n",
      "Epoch: 2 Train Perplexity: 1.028\n",
      "Epoch: 2 Valid Perplexity: 1.023\n",
      "Epoch: 3 Learning rate: 1.000\n",
      "Epoch: 3 Train Perplexity: 1.028\n",
      "Epoch: 3 Valid Perplexity: 1.023\n",
      "Epoch: 4 Learning rate: 1.000\n",
      "Epoch: 4 Train Perplexity: 1.028\n",
      "Epoch: 4 Valid Perplexity: 1.023\n",
      "Epoch: 5 Learning rate: 1.000\n",
      "Epoch: 5 Train Perplexity: 1.028\n",
      "Epoch: 5 Valid Perplexity: 1.023\n",
      "Epoch: 6 Learning rate: 0.500\n",
      "Epoch: 6 Train Perplexity: 1.028\n",
      "Epoch: 6 Valid Perplexity: 1.023\n",
      "Epoch: 7 Learning rate: 0.250\n",
      "Epoch: 7 Train Perplexity: 1.028\n",
      "Epoch: 7 Valid Perplexity: 1.023\n",
      "Epoch: 8 Learning rate: 0.125\n",
      "Epoch: 8 Train Perplexity: 1.028\n",
      "Epoch: 8 Valid Perplexity: 1.023\n",
      "Epoch: 9 Learning rate: 0.062\n",
      "Epoch: 9 Train Perplexity: 1.028\n",
      "Epoch: 9 Valid Perplexity: 1.023\n",
      "Epoch: 10 Learning rate: 0.031\n",
      "Epoch: 10 Train Perplexity: 1.028\n",
      "Epoch: 10 Valid Perplexity: 1.023\n",
      "Epoch: 11 Learning rate: 0.016\n",
      "Epoch: 11 Train Perplexity: 1.028\n",
      "Epoch: 11 Valid Perplexity: 1.023\n",
      "Epoch: 12 Learning rate: 0.008\n",
      "Epoch: 12 Train Perplexity: 1.028\n",
      "Epoch: 12 Valid Perplexity: 1.023\n",
      "Epoch: 13 Learning rate: 0.004\n",
      "Epoch: 13 Train Perplexity: 1.028\n",
      "Epoch: 13 Valid Perplexity: 1.023\n"
     ]
    }
   ],
   "source": [
    "\n",
    "raw_data = rets[:1500], rets[:2200], rets[2200:]\n",
    "train_data, valid_data, test_data = raw_data\n",
    "#train_data =valid_data = test_data =  raw_data\n",
    "\n",
    "config = eval_config = get_config()\n",
    "eval_config = get_config(test=True)\n",
    "eval_config.batch_size = 1\n",
    "eval_config.num_steps = 1\n",
    "\n",
    "config.data_size = eval_config.data_size = rets.shape[1]\n",
    "\n",
    "with tf.Graph().as_default(), tf.Session() as session:\n",
    "    initializer = tf.random_uniform_initializer(-config.init_scale,\n",
    "                                            config.init_scale)\n",
    "    with tf.variable_scope(\"model\", reuse=None, initializer=initializer):\n",
    "        m = LSTMModel(is_training=True, config=config)\n",
    "    with tf.variable_scope(\"model\", reuse=True, initializer=initializer):\n",
    "        mvalid = LSTMModel(is_training=False, config=config)\n",
    "        #mtest = LSTMModel(is_training=False, config=eval_config)\n",
    "\n",
    "    tf.initialize_all_variables().run()\n",
    "\n",
    "    for i in range(config.max_max_epoch):\n",
    "        lr_decay = config.lr_decay ** max(i - config.max_epoch, 0.0)\n",
    "        m.assign_lr(session, config.learning_rate * lr_decay)\n",
    "\n",
    "        print(\"Epoch: %d Learning rate: %.3f\" % (i + 1, session.run(m.lr)))\n",
    "        train_perplexity = run_epoch(session, m, train_data, m.train_op,\n",
    "                                   verbose=True)\n",
    "\n",
    "        print(\"Epoch: %d Train Perplexity: %.3f\" % (i + 1, train_perplexity))\n",
    "        valid_perplexity = run_epoch(session, mvalid, valid_data, tf.no_op())\n",
    "        print(\"Epoch: %d Valid Perplexity: %.3f\" % (i + 1, valid_perplexity))\n",
    "\n",
    "    test_output, test_inp, test_targ = run_epoch(session, mvalid, valid_data, mvalid.output, get_out = True)\n",
    "    #print(test_perplexity)\n",
    "    #print(\"Test Perplexity: %.3f\" % test_perplexity)\n"
   ]
  },
  {
   "cell_type": "code",
   "execution_count": 164,
   "metadata": {
    "collapsed": false
   },
   "outputs": [
    {
     "data": {
      "text/plain": [
       "array([-1, -1, -1, -1,  0, -1,  0, -1, -1, -1])"
      ]
     },
     "execution_count": 164,
     "metadata": {},
     "output_type": "execute_result"
    }
   ],
   "source": [
    "np.argmax(x,1)-1"
   ]
  },
  {
   "cell_type": "code",
   "execution_count": 167,
   "metadata": {
    "collapsed": false
   },
   "outputs": [],
   "source": [
    "x = np.random.random([10,1])\n",
    "y= np.random.random([10,1])"
   ]
  },
  {
   "cell_type": "code",
   "execution_count": 169,
   "metadata": {
    "collapsed": false
   },
   "outputs": [
    {
     "data": {
      "text/plain": [
       "array([[ 0.01011717],\n",
       "       [ 0.00543042],\n",
       "       [ 0.06012374],\n",
       "       [ 0.54723903],\n",
       "       [ 0.52666874],\n",
       "       [ 0.01286158],\n",
       "       [ 0.47726873],\n",
       "       [ 0.27279065],\n",
       "       [ 0.67786316],\n",
       "       [ 0.11310315]])"
      ]
     },
     "execution_count": 169,
     "metadata": {},
     "output_type": "execute_result"
    }
   ],
   "source": [
    "x * y"
   ]
  },
  {
   "cell_type": "code",
   "execution_count": 191,
   "metadata": {
    "collapsed": false
   },
   "outputs": [
    {
     "data": {
      "text/plain": [
       "[<matplotlib.lines.Line2D at 0x13c5a2860>]"
      ]
     },
     "execution_count": 191,
     "metadata": {},
     "output_type": "execute_result"
    },
    {
     "data": {
      "image/png": "[encoded data removed]",
      "text/plain": [
       "<matplotlib.figure.Figure at 0x130f97e48>"
      ]
     },
     "metadata": {},
     "output_type": "display_data"
    }
   ],
   "source": [
    "plot(test_inp[0][0])"
   ]
  },
  {
   "cell_type": "code",
   "execution_count": 192,
   "metadata": {
    "collapsed": false
   },
   "outputs": [
    {
     "data": {
      "text/plain": [
       "[<matplotlib.lines.Line2D at 0x12b6062e8>]"
      ]
     },
     "execution_count": 192,
     "metadata": {},
     "output_type": "execute_result"
    },
    {
     "data": {
      "image/png": "[encoded data removed]",
      "text/plain": [
       "<matplotlib.figure.Figure at 0x13dbb0a90>"
      ]
     },
     "metadata": {},
     "output_type": "display_data"
    }
   ],
   "source": [
    "plot(test_targ[0][0])"
   ]
  },
  {
   "cell_type": "code",
   "execution_count": 193,
   "metadata": {
    "collapsed": false,
    "scrolled": true
   },
   "outputs": [
    {
     "data": {
      "text/plain": [
       "[<matplotlib.lines.Line2D at 0x133d7a160>,\n",
       " <matplotlib.lines.Line2D at 0x133d7a550>,\n",
       " <matplotlib.lines.Line2D at 0x133d7a860>]"
      ]
     },
     "execution_count": 193,
     "metadata": {},
     "output_type": "execute_result"
    },
    {
     "data": {
      "image/png": "[encoded data removed]",
      "text/plain": [
       "<matplotlib.figure.Figure at 0x117383208>"
      ]
     },
     "metadata": {},
     "output_type": "display_data"
    }
   ],
   "source": [
    "x=3\n",
    "n = 6\n",
    "plot(test_output[0][25*x*1:25*1*(x+1)].reshape(-1,3))"
   ]
  },
  {
   "cell_type": "code",
   "execution_count": null,
   "metadata": {
    "collapsed": true
   },
   "outputs": [],
   "source": []
  },
  {
   "cell_type": "code",
   "execution_count": null,
   "metadata": {
    "collapsed": true
   },
   "outputs": [],
   "source": []
  },
  {
   "cell_type": "code",
   "execution_count": 41,
   "metadata": {
    "collapsed": false
   },
   "outputs": [],
   "source": [
    "inv = test_output[0][25*x*1:25*1*(x+1)].reshape(-1,6)"
   ]
  },
  {
   "cell_type": "code",
   "execution_count": 235,
   "metadata": {
    "collapsed": false
   },
   "outputs": [
    {
     "data": {
      "text/plain": [
       "(150, 6)"
      ]
     },
     "execution_count": 235,
     "metadata": {},
     "output_type": "execute_result"
    }
   ],
   "source": [
    "test_output[0][0:25*6].reshape(-1,6).shape"
   ]
  },
  {
   "cell_type": "code",
   "execution_count": 256,
   "metadata": {
    "collapsed": false
   },
   "outputs": [
    {
     "ename": "AttributeError",
     "evalue": "'module' object has no attribute 'mul'",
     "output_type": "error",
     "traceback": [
      "\u001b[0;31m---------------------------------------------------------------------------\u001b[0m",
      "\u001b[0;31mAttributeError\u001b[0m                            Traceback (most recent call last)",
      "\u001b[0;32m<ipython-input-256-e865e56656d6>\u001b[0m in \u001b[0;36m<module>\u001b[0;34m()\u001b[0m\n\u001b[0;32m----> 1\u001b[0;31m \u001b[0mnp\u001b[0m\u001b[0;34m.\u001b[0m\u001b[0mmul\u001b[0m\u001b[0;34m(\u001b[0m\u001b[0minv\u001b[0m\u001b[0;34m[\u001b[0m\u001b[0;34m:\u001b[0m\u001b[0;34m,\u001b[0m\u001b[0;34m:\u001b[0m\u001b[0;34m]\u001b[0m\u001b[0;34m)\u001b[0m\u001b[0;34m\u001b[0m\u001b[0m\n\u001b[0m",
      "\u001b[0;31mAttributeError\u001b[0m: 'module' object has no attribute 'mul'"
     ]
    }
   ],
   "source": [
    "np.mul(inv[:,:])"
   ]
  },
  {
   "cell_type": "code",
   "execution_count": 42,
   "metadata": {
    "collapsed": false
   },
   "outputs": [
    {
     "data": {
      "text/plain": [
       "array([ -6.98216486,  -6.98215246,  -6.98232746,  -6.98221302,\n",
       "        -6.98204231,  -6.98219585,  -6.98207426,  -6.98217106,\n",
       "        -6.98215723,  -6.98219633,  -6.98216343,  -6.98217678,\n",
       "        -6.98221302,  -6.98215961,  -6.98213148,  -6.9821701 ,\n",
       "        -6.98215151,  -6.98215818,  -6.98216295,  -6.98211956,\n",
       "       -14.57940769, -14.57942486, -14.57956505, -14.57947636, -14.57931995], dtype=float32)"
      ]
     },
     "execution_count": 42,
     "metadata": {},
     "output_type": "execute_result"
    }
   ],
   "source": [
    "np.sum(inv,1)"
   ]
  },
  {
   "cell_type": "code",
   "execution_count": null,
   "metadata": {
    "collapsed": true
   },
   "outputs": [],
   "source": []
  }
 ],
 "metadata": {
  "kernelspec": {
   "display_name": "Python 3",
   "language": "python",
   "name": "python3"
  },
  "language_info": {
   "codemirror_mode": {
    "name": "ipython",
    "version": 3
   },
   "file_extension": ".py",
   "mimetype": "text/x-python",
   "name": "python",
   "nbconvert_exporter": "python",
   "pygments_lexer": "ipython3",
   "version": "3.4.4"
  }
 },
 "nbformat": 4,
 "nbformat_minor": 0
}
