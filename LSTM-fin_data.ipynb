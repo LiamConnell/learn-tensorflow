{
 "cells": [
  {
   "cell_type": "code",
   "execution_count": 1,
   "metadata": {
    "collapsed": false
   },
   "outputs": [
    {
     "name": "stdout",
     "output_type": "stream",
     "text": [
      "Populating the interactive namespace from numpy and matplotlib\n"
     ]
    }
   ],
   "source": [
    "%pylab inline\n",
    "import matplotlib.pyplot as plt"
   ]
  },
  {
   "cell_type": "code",
   "execution_count": 2,
   "metadata": {
    "collapsed": true
   },
   "outputs": [],
   "source": [
    "import tensorflow as tf\n",
    "from tensorflow.models.rnn import rnn, rnn_cell\n",
    "import numpy as np\n",
    "import numpy.random as rng\n"
   ]
  },
  {
   "cell_type": "code",
   "execution_count": 3,
   "metadata": {
    "collapsed": true
   },
   "outputs": [],
   "source": [
    "import time"
   ]
  },
  {
   "cell_type": "code",
   "execution_count": 4,
   "metadata": {
    "collapsed": true
   },
   "outputs": [],
   "source": [
    "import pandas.io.data as web\n",
    "from pykalman import KalmanFilter\n",
    "import numpy as np\n",
    "import pandas as pd"
   ]
  },
  {
   "cell_type": "code",
   "execution_count": 5,
   "metadata": {
    "collapsed": false
   },
   "outputs": [
    {
     "data": {
      "text/plain": [
       "2251"
      ]
     },
     "execution_count": 5,
     "metadata": {},
     "output_type": "execute_result"
    }
   ],
   "source": [
    "def get_prices(symbol):\n",
    "    start, end = '2007-05-02', '2016-04-11'\n",
    "    data = web.DataReader(symbol, 'yahoo', start, end)\n",
    "    data=pd.DataFrame(data)\n",
    "    prices=data['Adj Close']\n",
    "    #prices=np.asarray(list(prices))\n",
    "    prices=prices.astype(float)\n",
    "    return prices\n",
    "\n",
    "gs = get_prices('GS')\n",
    "\n",
    "def get_returns(prices):\n",
    "    return (prices-prices.shift(-1))/prices\n",
    "\n",
    "rets = get_returns(gs)\n",
    "rets = rets[:-1]\n",
    "len(rets)"
   ]
  },
  {
   "cell_type": "code",
   "execution_count": 6,
   "metadata": {
    "collapsed": false
   },
   "outputs": [],
   "source": [
    "def lstm_iterator(raw_data, batch_size, num_steps):\n",
    " \n",
    "  raw_data = np.array(raw_data, dtype=np.float32)\n",
    "\n",
    "  data_len = len(raw_data)\n",
    "  batch_len = data_len // batch_size\n",
    "  data = np.zeros([batch_size, batch_len], dtype=np.float32)\n",
    "  for i in range(batch_size):\n",
    "    data[i] = raw_data[batch_len * i:batch_len * (i + 1)]\n",
    "\n",
    "  epoch_size = (batch_len - 1) // num_steps\n",
    "\n",
    "  if epoch_size == 0:\n",
    "    raise ValueError(\"epoch_size == 0, decrease batch_size or num_steps\")\n",
    "\n",
    "  for i in range(epoch_size):\n",
    "    x = data[:, i*num_steps:(i+1)*num_steps]\n",
    "    y = data[:, i*num_steps+1:(i+1)*num_steps+1]\n",
    "    yield (x, y)"
   ]
  },
  {
   "cell_type": "code",
   "execution_count": 7,
   "metadata": {
    "collapsed": false
   },
   "outputs": [],
   "source": [
    "def run_epoch(session, m, data, eval_op, verbose=False):\n",
    "  \"\"\"Runs the model on the given data.\"\"\"\n",
    "  epoch_size = ((len(data) // m.batch_size) - 1) // m.num_steps\n",
    "  start_time = time.time()\n",
    "  costs = 0.0\n",
    "  iters = 0\n",
    "  state = m.initial_state.eval()\n",
    "  for step, (x, y) in enumerate(lstm_iterator(data, m.batch_size,\n",
    "                                                    m.num_steps)):\n",
    "    cost, state, _ = session.run([m.cost, m.final_state, eval_op],\n",
    "                                 {m.input_data: x,\n",
    "                                  m.targets: y,\n",
    "                                  m.initial_state: state})\n",
    "    costs += cost\n",
    "    iters += m.num_steps\n",
    "\n",
    "  ''' if verbose and step % (epoch_size // 10) == 10:\n",
    "      print(\"%.3f perplexity: %.3f speed: %.0f wps\" %\n",
    "            (step * 1.0 / epoch_size, np.exp(costs / iters),\n",
    "             iters * m.batch_size / (time.time() - start_time)))\n",
    "  '''\n",
    "  return np.exp(costs / iters)\n",
    "\n"
   ]
  },
  {
   "cell_type": "code",
   "execution_count": 26,
   "metadata": {
    "collapsed": false
   },
   "outputs": [
    {
     "data": {
      "text/plain": [
       "<reversed at 0x10b52c780>"
      ]
     },
     "execution_count": 26,
     "metadata": {},
     "output_type": "execute_result"
    }
   ],
   "source": [
    "x = 'sdf'\n",
    "reversed(x)"
   ]
  },
  {
   "cell_type": "code",
   "execution_count": 25,
   "metadata": {
    "collapsed": false
   },
   "outputs": [
    {
     "data": {
      "text/plain": [
       "'abcdef'"
      ]
     },
     "execution_count": 25,
     "metadata": {},
     "output_type": "execute_result"
    }
   ],
   "source": [
    "''.join(l)"
   ]
  },
  {
   "cell_type": "code",
   "execution_count": 53,
   "metadata": {
    "collapsed": false
   },
   "outputs": [],
   "source": [
    "def addElement(element,list_val=list()): \n",
    "    list_val.append(element) \n",
    "    return list_val \n",
    "for i in range(10): \n",
    "    if i == 0: \n",
    "        list_val = addElement(i) \n",
    "    else: addElement(i)"
   ]
  },
  {
   "cell_type": "code",
   "execution_count": 54,
   "metadata": {
    "collapsed": false
   },
   "outputs": [
    {
     "data": {
      "text/plain": [
       "[0, 1, 2, 3, 4, 5, 6, 7, 8, 9]"
      ]
     },
     "execution_count": 54,
     "metadata": {},
     "output_type": "execute_result"
    }
   ],
   "source": [
    "list_val"
   ]
  },
  {
   "cell_type": "code",
   "execution_count": 45,
   "metadata": {
    "collapsed": false
   },
   "outputs": [],
   "source": [
    "x = [int(z) for z in list(x)]"
   ]
  },
  {
   "cell_type": "code",
   "execution_count": null,
   "metadata": {
    "collapsed": true
   },
   "outputs": [],
   "source": [
    "def foo(x,y):\n",
    "    x = [int(z) for z in list(x)]\n",
    "    return sum([x[i] == y[-(i+1)] for i in range(len(x))]) == len(x)"
   ]
  },
  {
   "cell_type": "code",
   "execution_count": 51,
   "metadata": {
    "collapsed": false
   },
   "outputs": [
    {
     "data": {
      "text/plain": [
       "True"
      ]
     },
     "execution_count": 51,
     "metadata": {},
     "output_type": "execute_result"
    }
   ],
   "source": [
    "sum([x[i] == y[-(i+1)] for i in range(len(x))]) == len(x)"
   ]
  },
  {
   "cell_type": "code",
   "execution_count": 27,
   "metadata": {
    "collapsed": true
   },
   "outputs": [],
   "source": [
    "def foo(ls):\n",
    "    ret  = []\n",
    "    for string in ls:\n",
    "        ret.append(string[::-1])\n",
    "    return ''.join(ret)"
   ]
  },
  {
   "cell_type": "code",
   "execution_count": 28,
   "metadata": {
    "collapsed": false
   },
   "outputs": [
    {
     "data": {
      "text/plain": [
       "'badcef'"
      ]
     },
     "execution_count": 28,
     "metadata": {},
     "output_type": "execute_result"
    }
   ],
   "source": [
    "foo(l)"
   ]
  },
  {
   "cell_type": "code",
   "execution_count": 8,
   "metadata": {
    "collapsed": true
   },
   "outputs": [],
   "source": [
    "class SmallConfig(object):\n",
    "    \"\"\"Small config.\"\"\"\n",
    "    init_scale = 0.1\n",
    "    learning_rate = 1.0\n",
    "    max_grad_norm = 5\n",
    "    num_layers = 2\n",
    "    num_steps = 25\n",
    "    hidden_size = 200\n",
    "    max_epoch = 4\n",
    "    max_max_epoch = 13\n",
    "    keep_prob = 1.0\n",
    "    lr_decay = 0.5\n",
    "    batch_size = 20\n",
    "    #vocab_size = 10000\n",
    "\n",
    "def get_config():\n",
    "    return SmallConfig()"
   ]
  },
  {
   "cell_type": "code",
   "execution_count": 268,
   "metadata": {
    "collapsed": false
   },
   "outputs": [],
   "source": [
    "class LSTMModel(object):\n",
    "  \"\"\"The PTB model.\"\"\"\n",
    "\n",
    "  def __init__(self, is_training, config):\n",
    "    self.batch_size = batch_size = config.batch_size\n",
    "    self.num_steps = num_steps = config.num_steps\n",
    "    size = config.hidden_size\n",
    "\n",
    "    self._input_data = tf.placeholder(tf.float32, [batch_size, num_steps])\n",
    "    self._targets = tf.placeholder(tf.float32, [batch_size, num_steps])\n",
    " \n",
    "\n",
    "    z = tf.zeros([20])\n",
    "    z = tf.reshape(z, [-1, 1])\n",
    "    print(session.run(z).shape)\n",
    "    \n",
    "    lstm_cell = tf.nn.rnn_cell.BasicLSTMCell(size, forget_bias=0.0)\n",
    "    \n",
    "    cell = tf.nn.rnn_cell.MultiRNNCell([lstm_cell] * config.num_layers)\n",
    "\n",
    "    self._initial_state = cell.zero_state(batch_size, tf.float32)\n",
    "    \n",
    "    cell = tf.nn.rnn_cell.InputProjectionWrapper(cell,  size)\n",
    "    \n",
    "    #maybe:\n",
    "    cell = tf.nn.rnn_cell.OutputProjectionWrapper(cell, 1)\n",
    "    \n",
    "    \n",
    "\n",
    "    \n",
    "\n",
    "    outputs = []\n",
    "    state = self._initial_state\n",
    "    #print(session.run(inputs))\n",
    "    print(state)\n",
    "    print(self._input_data)       #####\n",
    "    with tf.variable_scope(\"RNN\"):\n",
    "      for time_step in range(num_steps):\n",
    "        if time_step > 0: tf.get_variable_scope().reuse_variables()\n",
    "        (cell_output, state) = cell(tf.reshape(self._input_data[:, time_step], [-1, 1]), state)    #\n",
    "        outputs.append(cell_output)\n",
    "\n",
    "    output = tf.reshape(tf.concat(1, outputs), [-1])\n",
    "    loss = tf.nn.l2_loss(output - tf.reshape(self._targets, [-1]))\n",
    "        \n",
    "        \n",
    "    '''output = tf.reshape(tf.concat(1, outputs), [-1, size])    #?????\n",
    "    softmax_w = tf.get_variable(\"softmax_w\", [size, 1])\n",
    "    softmax_b = tf.get_variable(\"softmax_b\", [1])\n",
    "    logits = tf.matmul(output, softmax_w) + softmax_b\n",
    "\n",
    "    loss = tf.nn.l2_loss(logits - tf.reshape(self._targets, [-1]))'''\n",
    "    \n",
    "    #loss = tf.nn.seq2seq.sequence_loss_by_example(\n",
    "     #   [logits],\n",
    "      #  [tf.reshape(self._targets, [-1])],\n",
    "       # [tf.ones([batch_size * num_steps])],1)\n",
    "    self._cost = cost = tf.reduce_sum(loss) / batch_size\n",
    "    self._final_state = state\n",
    "\n",
    "    if not is_training:\n",
    "      return\n",
    "\n",
    "    self._lr = tf.Variable(0.0, trainable=False)\n",
    "    tvars = tf.trainable_variables()\n",
    "    grads, _ = tf.clip_by_global_norm(tf.gradients(cost, tvars),\n",
    "                                      config.max_grad_norm)\n",
    "    optimizer = tf.train.GradientDescentOptimizer(self.lr)\n",
    "    self._train_op = optimizer.apply_gradients(zip(grads, tvars))\n",
    "\n",
    "  def assign_lr(self, session, lr_value):\n",
    "    session.run(tf.assign(self.lr, lr_value))\n",
    "\n",
    "  @property\n",
    "  def input_data(self):\n",
    "    return self._input_data\n",
    "\n",
    "  @property\n",
    "  def targets(self):\n",
    "    return self._targets\n",
    "\n",
    "  @property\n",
    "  def initial_state(self):\n",
    "    return self._initial_state\n",
    "\n",
    "  @property\n",
    "  def cost(self):\n",
    "    return self._cost\n",
    "\n",
    "  @property\n",
    "  def final_state(self):\n",
    "    return self._final_state\n",
    "\n",
    "  @property\n",
    "  def lr(self):\n",
    "    return self._lr\n",
    "\n",
    "  @property\n",
    "  def train_op(self):\n",
    "    return self._train_op\n",
    "\n"
   ]
  },
  {
   "cell_type": "code",
   "execution_count": 273,
   "metadata": {
    "collapsed": false,
    "scrolled": false
   },
   "outputs": [
    {
     "name": "stdout",
     "output_type": "stream",
     "text": [
      "(20, 1)\n",
      "Tensor(\"model/zeros_1:0\", shape=TensorShape([Dimension(None), Dimension(800)]), dtype=float32)\n",
      "Tensor(\"model/Placeholder:0\", shape=TensorShape([Dimension(20), Dimension(25)]), dtype=float32)\n",
      "(20, 1)\n",
      "Tensor(\"model_1/zeros_1:0\", shape=TensorShape([Dimension(None), Dimension(800)]), dtype=float32)\n",
      "Tensor(\"model_1/Placeholder:0\", shape=TensorShape([Dimension(20), Dimension(25)]), dtype=float32)\n",
      "(20, 1)\n",
      "Tensor(\"model_1/zeros_3:0\", shape=TensorShape([Dimension(None), Dimension(800)]), dtype=float32)\n",
      "Tensor(\"model_1/Placeholder_2:0\", shape=TensorShape([Dimension(20), Dimension(25)]), dtype=float32)\n",
      "Epoch: 1 Learning rate: 1.000\n",
      "Epoch: 1 Train Perplexity: 2.812\n",
      "Epoch: 1 Valid Perplexity: 1.974\n",
      "Epoch: 2 Learning rate: 1.000\n",
      "Epoch: 2 Train Perplexity: 362.734\n",
      "Epoch: 2 Valid Perplexity: 9.814\n",
      "Epoch: 3 Learning rate: 1.000\n",
      "Epoch: 3 Train Perplexity: 40.849\n",
      "Epoch: 3 Valid Perplexity: 1.843\n",
      "Epoch: 4 Learning rate: 1.000\n",
      "Epoch: 4 Train Perplexity: 671582.534\n",
      "Epoch: 4 Valid Perplexity: 17.036\n",
      "Epoch: 5 Learning rate: 1.000\n",
      "Epoch: 5 Train Perplexity: 345.699\n",
      "Epoch: 5 Valid Perplexity: 1.470\n",
      "Epoch: 6 Learning rate: 0.500\n",
      "Epoch: 6 Train Perplexity: 3.432\n",
      "Epoch: 6 Valid Perplexity: 4.013\n",
      "Epoch: 7 Learning rate: 0.250\n",
      "Epoch: 7 Train Perplexity: 1.773\n",
      "Epoch: 7 Valid Perplexity: 1.337\n",
      "Epoch: 8 Learning rate: 0.125\n",
      "Epoch: 8 Train Perplexity: 1.111\n",
      "Epoch: 8 Valid Perplexity: 1.021\n",
      "Epoch: 9 Learning rate: 0.062\n",
      "Epoch: 9 Train Perplexity: 1.009\n",
      "Epoch: 9 Valid Perplexity: 1.002\n",
      "Epoch: 10 Learning rate: 0.031\n",
      "Epoch: 10 Train Perplexity: 1.001\n",
      "Epoch: 10 Valid Perplexity: 1.000\n",
      "Epoch: 11 Learning rate: 0.016\n",
      "Epoch: 11 Train Perplexity: 1.000\n",
      "Epoch: 11 Valid Perplexity: 1.000\n",
      "Epoch: 12 Learning rate: 0.008\n",
      "Epoch: 12 Train Perplexity: 1.000\n",
      "Epoch: 12 Valid Perplexity: 1.000\n",
      "Epoch: 13 Learning rate: 0.004\n",
      "Epoch: 13 Train Perplexity: 1.000\n",
      "Epoch: 13 Valid Perplexity: 1.000\n",
      "Test Perplexity: 1.000\n"
     ]
    }
   ],
   "source": [
    "\n",
    "raw_data = rets\n",
    "#train_data, valid_data, test_data, _ = raw_data\n",
    "train_data =valid_data = test_data =  raw_data\n",
    "\n",
    "config = eval_config = get_config()\n",
    "#eval_config = get_config()\n",
    "#eval_config.batch_size = 1\n",
    "#eval_config.num_steps = 1\n",
    "\n",
    "with tf.Graph().as_default(), tf.Session() as session:\n",
    "    initializer = tf.random_uniform_initializer(-config.init_scale,\n",
    "                                            config.init_scale)\n",
    "    with tf.variable_scope(\"model\", reuse=None, initializer=initializer):\n",
    "        m = LSTMModel(is_training=True, config=config)\n",
    "    with tf.variable_scope(\"model\", reuse=True, initializer=initializer):\n",
    "        mvalid = LSTMModel(is_training=False, config=config)\n",
    "        mtest = LSTMModel(is_training=False, config=eval_config)\n",
    "\n",
    "    tf.initialize_all_variables().run()\n",
    "\n",
    "    for i in range(config.max_max_epoch):\n",
    "        lr_decay = config.lr_decay ** max(i - config.max_epoch, 0.0)\n",
    "        m.assign_lr(session, config.learning_rate * lr_decay)\n",
    "\n",
    "        print(\"Epoch: %d Learning rate: %.3f\" % (i + 1, session.run(m.lr)))\n",
    "        train_perplexity = run_epoch(session, m, train_data, m.train_op,\n",
    "                                   verbose=True)\n",
    "\n",
    "        print(\"Epoch: %d Train Perplexity: %.3f\" % (i + 1, train_perplexity))\n",
    "        valid_perplexity = run_epoch(session, mvalid, valid_data, tf.no_op())\n",
    "        print(\"Epoch: %d Valid Perplexity: %.3f\" % (i + 1, valid_perplexity))\n",
    "\n",
    "    test_perplexity = run_epoch(session, mtest, test_data, tf.no_op())\n",
    "    print(\"Test Perplexity: %.3f\" % test_perplexity)\n"
   ]
  },
  {
   "cell_type": "code",
   "execution_count": 228,
   "metadata": {
    "collapsed": true
   },
   "outputs": [],
   "source": [
    "tf.nn.embedding_lookup?"
   ]
  },
  {
   "cell_type": "code",
   "execution_count": 226,
   "metadata": {
    "collapsed": false
   },
   "outputs": [
    {
     "data": {
      "text/plain": [
       "'class PTBModel(object):\\n  \"\"\"The PTB model.\"\"\"\\n\\n  def __init__(self, is_training, config):\\n    self.batch_size = batch_size = config.batch_size\\n    self.num_steps = num_steps = config.num_steps\\n    size = config.hidden_size\\n    #vocab_size = config.vocab_size\\n\\n    self._input_data = tf.placeholder(tf.int32, [batch_size, num_steps])\\n    self._targets = tf.placeholder(tf.int32, [batch_size, num_steps])\\n\\n    # Slightly better results can be obtained with forget gate biases\\n    # initialized to 1 but the hyperparameters of the model would need to be\\n    # different than reported in the paper.\\n    lstm_cell = tf.nn.rnn_cell.BasicLSTMCell(size, forget_bias=0.0)\\n    #if is_training and config.keep_prob < 1:\\n     # lstm_cell = tf.nn.rnn_cell.DropoutWrapper(\\n      #    lstm_cell, output_keep_prob=config.keep_prob)\\n    cell = tf.nn.rnn_cell.MultiRNNCell([lstm_cell] * config.num_layers)\\n\\n    self._initial_state = cell.zero_state(batch_size, tf.float32)\\n\\n    #with tf.device(\"/cpu:0\"):\\n     # embedding = tf.get_variable(\"embedding\", [vocab_size, size])\\n      #inputs = tf.nn.embedding_lookup(embedding, self._input_data)\\n    \\n\\n    #if is_training and config.keep_prob < 1:\\n     # inputs = tf.nn.dropout(inputs, config.keep_prob)\\n\\n    # Simplified version of tensorflow.models.rnn.rnn.py\\'s rnn().\\n    # This builds an unrolled LSTM for tutorial purposes only.\\n    # In general, use the rnn() or state_saving_rnn() from rnn.py.\\n    #\\n    # The alternative version of the code below is:\\n    #\\n    # from tensorflow.models.rnn import rnn\\n    # inputs = [tf.squeeze(input_, [1])\\n    #           for input_ in tf.split(1, num_steps, inputs)]\\n    # outputs, state = rnn.rnn(cell, inputs, initial_state=self._initial_state)\\n    outputs = []\\n    state = self._initial_state\\n    with tf.variable_scope(\"RNN\"):\\n      for time_step in range(num_steps):\\n        if time_step > 0: tf.get_variable_scope().reuse_variables()\\n        (cell_output, state) = cell(inputs[:, time_step, :], state)\\n        outputs.append(cell_output)\\n\\n    output = tf.reshape(tf.concat(1, outputs), [-1, size])\\n    softmax_w = tf.get_variable(\"softmax_w\", [size, vocab_size])\\n    softmax_b = tf.get_variable(\"softmax_b\", [vocab_size])\\n    logits = tf.matmul(output, softmax_w) + softmax_b\\n    loss = tf.nn.seq2seq.sequence_loss_by_example(\\n        [logits],\\n        [tf.reshape(self._targets, [-1])],\\n        [tf.ones([batch_size * num_steps])])\\n    self._cost = cost = tf.reduce_sum(loss) / batch_size\\n    self._final_state = state\\n\\n    if not is_training:\\n      return\\n\\n    self._lr = tf.Variable(0.0, trainable=False)\\n    tvars = tf.trainable_variables()\\n    grads, _ = tf.clip_by_global_norm(tf.gradients(cost, tvars),\\n                                      config.max_grad_norm)\\n    optimizer = tf.train.GradientDescentOptimizer(self.lr)\\n    self._train_op = optimizer.apply_gradients(zip(grads, tvars))\\n\\n  def assign_lr(self, session, lr_value):\\n    session.run(tf.assign(self.lr, lr_value))\\n\\n  @property\\n  def input_data(self):\\n    return self._input_data\\n\\n  @property\\n  def targets(self):\\n    return self._targets\\n\\n  @property\\n  def initial_state(self):\\n    return self._initial_state\\n\\n  @property\\n  def cost(self):\\n    return self._cost\\n\\n  @property\\n  def final_state(self):\\n    return self._final_state\\n\\n  @property\\n  def lr(self):\\n    return self._lr\\n\\n  @property\\n  def train_op(self):\\n    return self._train_op\\n\\n'"
      ]
     },
     "execution_count": 226,
     "metadata": {},
     "output_type": "execute_result"
    }
   ],
   "source": [
    "'''class PTBModel(object):\n",
    "  \"\"\"The PTB model.\"\"\"\n",
    "\n",
    "  def __init__(self, is_training, config):\n",
    "    self.batch_size = batch_size = config.batch_size\n",
    "    self.num_steps = num_steps = config.num_steps\n",
    "    size = config.hidden_size\n",
    "    #vocab_size = config.vocab_size\n",
    "\n",
    "    self._input_data = tf.placeholder(tf.int32, [batch_size, num_steps])\n",
    "    self._targets = tf.placeholder(tf.int32, [batch_size, num_steps])\n",
    "\n",
    "    # Slightly better results can be obtained with forget gate biases\n",
    "    # initialized to 1 but the hyperparameters of the model would need to be\n",
    "    # different than reported in the paper.\n",
    "    lstm_cell = tf.nn.rnn_cell.BasicLSTMCell(size, forget_bias=0.0)\n",
    "    #if is_training and config.keep_prob < 1:\n",
    "     # lstm_cell = tf.nn.rnn_cell.DropoutWrapper(\n",
    "      #    lstm_cell, output_keep_prob=config.keep_prob)\n",
    "    cell = tf.nn.rnn_cell.MultiRNNCell([lstm_cell] * config.num_layers)\n",
    "\n",
    "    self._initial_state = cell.zero_state(batch_size, tf.float32)\n",
    "\n",
    "    #with tf.device(\"/cpu:0\"):\n",
    "     # embedding = tf.get_variable(\"embedding\", [vocab_size, size])\n",
    "      #inputs = tf.nn.embedding_lookup(embedding, self._input_data)\n",
    "    \n",
    "\n",
    "    #if is_training and config.keep_prob < 1:\n",
    "     # inputs = tf.nn.dropout(inputs, config.keep_prob)\n",
    "\n",
    "    # Simplified version of tensorflow.models.rnn.rnn.py's rnn().\n",
    "    # This builds an unrolled LSTM for tutorial purposes only.\n",
    "    # In general, use the rnn() or state_saving_rnn() from rnn.py.\n",
    "    #\n",
    "    # The alternative version of the code below is:\n",
    "    #\n",
    "    # from tensorflow.models.rnn import rnn\n",
    "    # inputs = [tf.squeeze(input_, [1])\n",
    "    #           for input_ in tf.split(1, num_steps, inputs)]\n",
    "    # outputs, state = rnn.rnn(cell, inputs, initial_state=self._initial_state)\n",
    "    outputs = []\n",
    "    state = self._initial_state\n",
    "    with tf.variable_scope(\"RNN\"):\n",
    "      for time_step in range(num_steps):\n",
    "        if time_step > 0: tf.get_variable_scope().reuse_variables()\n",
    "        (cell_output, state) = cell(inputs[:, time_step, :], state)\n",
    "        outputs.append(cell_output)\n",
    "\n",
    "    output = tf.reshape(tf.concat(1, outputs), [-1, size])\n",
    "    softmax_w = tf.get_variable(\"softmax_w\", [size, vocab_size])\n",
    "    softmax_b = tf.get_variable(\"softmax_b\", [vocab_size])\n",
    "    logits = tf.matmul(output, softmax_w) + softmax_b\n",
    "    loss = tf.nn.seq2seq.sequence_loss_by_example(\n",
    "        [logits],\n",
    "        [tf.reshape(self._targets, [-1])],\n",
    "        [tf.ones([batch_size * num_steps])])\n",
    "    self._cost = cost = tf.reduce_sum(loss) / batch_size\n",
    "    self._final_state = state\n",
    "\n",
    "    if not is_training:\n",
    "      return\n",
    "\n",
    "    self._lr = tf.Variable(0.0, trainable=False)\n",
    "    tvars = tf.trainable_variables()\n",
    "    grads, _ = tf.clip_by_global_norm(tf.gradients(cost, tvars),\n",
    "                                      config.max_grad_norm)\n",
    "    optimizer = tf.train.GradientDescentOptimizer(self.lr)\n",
    "    self._train_op = optimizer.apply_gradients(zip(grads, tvars))\n",
    "\n",
    "  def assign_lr(self, session, lr_value):\n",
    "    session.run(tf.assign(self.lr, lr_value))\n",
    "\n",
    "  @property\n",
    "  def input_data(self):\n",
    "    return self._input_data\n",
    "\n",
    "  @property\n",
    "  def targets(self):\n",
    "    return self._targets\n",
    "\n",
    "  @property\n",
    "  def initial_state(self):\n",
    "    return self._initial_state\n",
    "\n",
    "  @property\n",
    "  def cost(self):\n",
    "    return self._cost\n",
    "\n",
    "  @property\n",
    "  def final_state(self):\n",
    "    return self._final_state\n",
    "\n",
    "  @property\n",
    "  def lr(self):\n",
    "    return self._lr\n",
    "\n",
    "  @property\n",
    "  def train_op(self):\n",
    "    return self._train_op\n",
    "\n",
    "'''"
   ]
  },
  {
   "cell_type": "code",
   "execution_count": null,
   "metadata": {
    "collapsed": true
   },
   "outputs": [],
   "source": []
  },
  {
   "cell_type": "code",
   "execution_count": null,
   "metadata": {
    "collapsed": true
   },
   "outputs": [],
   "source": []
  }
 ],
 "metadata": {
  "kernelspec": {
   "display_name": "Python 3",
   "language": "python",
   "name": "python3"
  },
  "language_info": {
   "codemirror_mode": {
    "name": "ipython",
    "version": 3
   },
   "file_extension": ".py",
   "mimetype": "text/x-python",
   "name": "python",
   "nbconvert_exporter": "python",
   "pygments_lexer": "ipython3",
   "version": "3.4.4"
  }
 },
 "nbformat": 4,
 "nbformat_minor": 0
}
