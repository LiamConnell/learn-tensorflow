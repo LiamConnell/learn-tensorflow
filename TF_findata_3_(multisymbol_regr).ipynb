{
 "cells": [
  {
   "cell_type": "code",
   "execution_count": 1,
   "metadata": {
    "collapsed": false
   },
   "outputs": [
    {
     "name": "stdout",
     "output_type": "stream",
     "text": [
      "Populating the interactive namespace from numpy and matplotlib\n"
     ]
    }
   ],
   "source": [
    "%pylab inline\n",
    "import matplotlib.pyplot as plt"
   ]
  },
  {
   "cell_type": "code",
   "execution_count": 2,
   "metadata": {
    "collapsed": false
   },
   "outputs": [],
   "source": [
    "import tensorflow as tf\n",
    "from tensorflow.models.rnn import rnn, rnn_cell\n",
    "import numpy as np\n",
    "import numpy.random as rng"
   ]
  },
  {
   "cell_type": "code",
   "execution_count": 3,
   "metadata": {
    "collapsed": true
   },
   "outputs": [],
   "source": [
    "import pandas.io.data as web\n",
    "from pykalman import KalmanFilter\n",
    "import numpy as np\n",
    "import pandas as pd"
   ]
  },
  {
   "cell_type": "code",
   "execution_count": 4,
   "metadata": {
    "collapsed": true
   },
   "outputs": [],
   "source": [
    "def get_prices(symbol):\n",
    "    start, end = '2007-05-02', '2016-04-11'\n",
    "    data = web.DataReader(symbol, 'yahoo', start, end)\n",
    "    data=pd.DataFrame(data)\n",
    "    prices=data['Adj Close']\n",
    "    #prices=np.asarray(list(prices))\n",
    "    prices=prices.astype(float)\n",
    "    return prices"
   ]
  },
  {
   "cell_type": "code",
   "execution_count": 5,
   "metadata": {
    "collapsed": true
   },
   "outputs": [],
   "source": [
    "gs = get_prices('GS')"
   ]
  },
  {
   "cell_type": "code",
   "execution_count": 6,
   "metadata": {
    "collapsed": true
   },
   "outputs": [],
   "source": [
    "c = get_prices('C')"
   ]
  },
  {
   "cell_type": "code",
   "execution_count": 7,
   "metadata": {
    "collapsed": true
   },
   "outputs": [],
   "source": [
    "def get_returns(prices):\n",
    "    return (prices-prices.shift(-1))/prices"
   ]
  },
  {
   "cell_type": "code",
   "execution_count": 8,
   "metadata": {
    "collapsed": true
   },
   "outputs": [],
   "source": [
    "rets = get_returns(gs)"
   ]
  },
  {
   "cell_type": "code",
   "execution_count": 9,
   "metadata": {
    "collapsed": true
   },
   "outputs": [],
   "source": [
    "rets_c = get_returns(c)"
   ]
  },
  {
   "cell_type": "code",
   "execution_count": 10,
   "metadata": {
    "collapsed": true
   },
   "outputs": [],
   "source": [
    "def sort_data(rets, N):\n",
    "    ins = []\n",
    "    outs = []\n",
    "    for i in range(N):\n",
    "        xx = np.random.randint(len(rets)-100)\n",
    "        ins.append(rets[xx:xx+100].tolist())\n",
    "        outs.append(rets[xx+100])\n",
    "    return np.array(ins), np.array(outs)"
   ]
  },
  {
   "cell_type": "code",
   "execution_count": 11,
   "metadata": {
    "collapsed": false
   },
   "outputs": [
    {
     "data": {
      "text/plain": [
       "(2252,)"
      ]
     },
     "execution_count": 11,
     "metadata": {},
     "output_type": "execute_result"
    }
   ],
   "source": [
    "rets.shape"
   ]
  },
  {
   "cell_type": "code",
   "execution_count": 12,
   "metadata": {
    "collapsed": false
   },
   "outputs": [],
   "source": [
    "ins, outs = sort_data(rets, 1000)\n"
   ]
  },
  {
   "cell_type": "code",
   "execution_count": 13,
   "metadata": {
    "collapsed": true
   },
   "outputs": [],
   "source": [
    "ins_c, outs_c = sort_data(rets_c, 1000)"
   ]
  },
  {
   "cell_type": "code",
   "execution_count": 14,
   "metadata": {
    "collapsed": false
   },
   "outputs": [],
   "source": [
    "arr = np.array([ins.T, ins_c.T])"
   ]
  },
  {
   "cell_type": "code",
   "execution_count": 15,
   "metadata": {
    "collapsed": false,
    "scrolled": true
   },
   "outputs": [],
   "source": [
    "arr = arr.T"
   ]
  },
  {
   "cell_type": "code",
   "execution_count": 16,
   "metadata": {
    "collapsed": false
   },
   "outputs": [
    {
     "data": {
      "text/plain": [
       "(1000, 100, 2)"
      ]
     },
     "execution_count": 16,
     "metadata": {},
     "output_type": "execute_result"
    }
   ],
   "source": [
    "arr.shape"
   ]
  },
  {
   "cell_type": "code",
   "execution_count": 17,
   "metadata": {
    "collapsed": false
   },
   "outputs": [],
   "source": [
    "ar_out = np.array([outs, outs_c])"
   ]
  },
  {
   "cell_type": "code",
   "execution_count": 19,
   "metadata": {
    "collapsed": false
   },
   "outputs": [],
   "source": [
    "ar_out = ar_out.T"
   ]
  },
  {
   "cell_type": "code",
   "execution_count": 20,
   "metadata": {
    "collapsed": false
   },
   "outputs": [
    {
     "data": {
      "text/plain": [
       "(1000, 100, 2)"
      ]
     },
     "execution_count": 20,
     "metadata": {},
     "output_type": "execute_result"
    }
   ],
   "source": [
    "arr.shape"
   ]
  },
  {
   "cell_type": "code",
   "execution_count": 21,
   "metadata": {
    "collapsed": false
   },
   "outputs": [
    {
     "data": {
      "text/plain": [
       "(1000, 2)"
      ]
     },
     "execution_count": 21,
     "metadata": {},
     "output_type": "execute_result"
    }
   ],
   "source": [
    "ar_out.shape"
   ]
  },
  {
   "cell_type": "markdown",
   "metadata": {
    "collapsed": true
   },
   "source": [
    "#TensorFlow 1"
   ]
  },
  {
   "cell_type": "code",
   "execution_count": 22,
   "metadata": {
    "collapsed": false
   },
   "outputs": [],
   "source": [
    "sess = tf.InteractiveSession()"
   ]
  },
  {
   "cell_type": "code",
   "execution_count": 23,
   "metadata": {
    "collapsed": true
   },
   "outputs": [],
   "source": [
    "x = tf.placeholder(tf.float32, [None, 200])\n",
    "y_ = tf.placeholder(tf.float32, [None, 2])"
   ]
  },
  {
   "cell_type": "code",
   "execution_count": 24,
   "metadata": {
    "collapsed": false
   },
   "outputs": [],
   "source": [
    "W = tf.Variable(tf.random_normal([200, 2]))\n",
    "b = tf.Variable(tf.random_normal([2]))"
   ]
  },
  {
   "cell_type": "code",
   "execution_count": 25,
   "metadata": {
    "collapsed": false
   },
   "outputs": [],
   "source": [
    "y = tf.matmul(x, W) + b"
   ]
  },
  {
   "cell_type": "code",
   "execution_count": 26,
   "metadata": {
    "collapsed": false
   },
   "outputs": [],
   "source": [
    "cross_entropy = tf.reduce_mean(-tf.reduce_sum(y_ * tf.log(y), reduction_indices=[1]))\n",
    "train_step = tf.train.GradientDescentOptimizer(0.5).minimize(cross_entropy)"
   ]
  },
  {
   "cell_type": "code",
   "execution_count": 27,
   "metadata": {
    "collapsed": false
   },
   "outputs": [],
   "source": [
    "# Mean squared error\n",
    "cost = tf.reduce_sum(tf.pow(y-y_, 2))/(2*1000)\n",
    "# Gradient descent\n",
    "optimizer = tf.train.GradientDescentOptimizer(0.5).minimize(cost)"
   ]
  },
  {
   "cell_type": "code",
   "execution_count": 28,
   "metadata": {
    "collapsed": true
   },
   "outputs": [],
   "source": [
    "init = tf.initialize_all_variables()"
   ]
  },
  {
   "cell_type": "code",
   "execution_count": 29,
   "metadata": {
    "collapsed": true
   },
   "outputs": [],
   "source": [
    "sess = tf.Session()\n",
    "sess.run(init)"
   ]
  },
  {
   "cell_type": "code",
   "execution_count": 31,
   "metadata": {
    "collapsed": false,
    "scrolled": true
   },
   "outputs": [
    {
     "name": "stdout",
     "output_type": "stream",
     "text": [
      "Epoch: 0100 cost= 0.192590281\n",
      "Epoch: 0200 cost= 0.154720932\n",
      "Epoch: 0300 cost= 0.127381220\n",
      "Epoch: 0400 cost= 0.107035682\n",
      "Epoch: 0500 cost= 0.091481544\n",
      "Epoch: 0600 cost= 0.079305835\n",
      "Epoch: 0700 cost= 0.069577396\n",
      "Epoch: 0800 cost= 0.061664838\n",
      "Epoch: 0900 cost= 0.055128902\n",
      "Epoch: 1000 cost= 0.049657114\n",
      "Epoch: 1100 cost= 0.045021817\n",
      "Epoch: 1200 cost= 0.041054219\n",
      "Epoch: 1300 cost= 0.037626509\n",
      "Epoch: 1400 cost= 0.034640692\n",
      "Epoch: 1500 cost= 0.032020405\n",
      "Epoch: 1600 cost= 0.029705372\n",
      "Epoch: 1700 cost= 0.027647637\n",
      "Epoch: 1800 cost= 0.025808390\n",
      "Epoch: 1900 cost= 0.024156103\n",
      "Epoch: 2000 cost= 0.022664903\n"
     ]
    }
   ],
   "source": [
    "for epoch in range(2000):\n",
    "    #batch_xs, batch_ys = mnist.train.next_batch(100)\n",
    "    feed_dict={x: arr.reshape(1000, 200), y_: ar_out}#.reshape(1,-1).T}\n",
    "    sess.run(optimizer, feed_dict=feed_dict)#outs.reshape(1,-1).T})\n",
    "    if (epoch+1)%100== 0:\n",
    "        c = sess.run(cost, feed_dict=feed_dict)\n",
    "        print(\"Epoch:\", '%04d' % (epoch+1), \"cost=\", \"{:.9f}\".format(c), \\\n",
    "            )"
   ]
  },
  {
   "cell_type": "code",
   "execution_count": 32,
   "metadata": {
    "collapsed": true
   },
   "outputs": [],
   "source": [
    "predict = y"
   ]
  },
  {
   "cell_type": "code",
   "execution_count": 33,
   "metadata": {
    "collapsed": false,
    "scrolled": true
   },
   "outputs": [],
   "source": [
    "p = sess.run(predict, feed_dict=feed_dict)"
   ]
  },
  {
   "cell_type": "code",
   "execution_count": 34,
   "metadata": {
    "collapsed": false,
    "scrolled": true
   },
   "outputs": [
    {
     "data": {
      "text/plain": [
       "array([[ 0.38114092,  0.13199468],\n",
       "       [-0.12364696,  0.26719409],\n",
       "       [-0.28212741, -0.61729842],\n",
       "       [-0.31149265, -0.48263323],\n",
       "       [ 0.05624521,  0.56310397],\n",
       "       [-0.6521557 ,  0.06043724],\n",
       "       [-0.79150641, -0.7629084 ],\n",
       "       [-0.26433766, -0.2428785 ],\n",
       "       [ 0.57532781, -0.02395909],\n",
       "       [-0.12469169,  0.23810336],\n",
       "       [ 0.05122634,  0.52980632],\n",
       "       [ 0.28822219, -0.11060995],\n",
       "       [-0.46512109, -0.42281139],\n",
       "       [-0.0540933 ,  0.23907785],\n",
       "       [-0.89169019,  0.4351888 ],\n",
       "       [-0.77155715, -0.07623435],\n",
       "       [ 0.28079161,  0.97392821],\n",
       "       [ 0.37495756, -0.01177794],\n",
       "       [-0.25884354,  0.06063631],\n",
       "       [-0.13436271, -0.16902484],\n",
       "       [-0.03201395,  0.60672247],\n",
       "       [ 0.56236845, -0.76137269],\n",
       "       [-2.10535622, -0.18897073],\n",
       "       [-0.06276677,  0.7693907 ],\n",
       "       [ 0.70923114,  0.57507265],\n",
       "       [ 0.54711825, -0.14913201],\n",
       "       [ 0.48089594,  0.03855405],\n",
       "       [ 0.28273609,  0.05012471],\n",
       "       [ 0.16550493,  0.40114549],\n",
       "       [ 0.30578813, -0.06006357],\n",
       "       [-0.011412  ,  0.20362455],\n",
       "       [ 0.16243091,  0.16379037],\n",
       "       [-0.67013997,  0.37554023],\n",
       "       [ 0.6026448 ,  0.08805939],\n",
       "       [ 1.24310982,  0.98191506],\n",
       "       [-0.77404684,  0.37884679],\n",
       "       [-0.85568285,  1.00370872],\n",
       "       [-0.0780421 , -0.14593752],\n",
       "       [ 0.36685011, -0.14176264],\n",
       "       [ 0.49891955,  0.61298877],\n",
       "       [ 0.04538567,  0.32598269],\n",
       "       [-0.01359672,  0.28090379],\n",
       "       [ 0.11252661,  1.1107254 ],\n",
       "       [ 0.17955337, -0.35751894],\n",
       "       [-1.09586394, -0.46162269],\n",
       "       [-0.06895836,  0.29272991],\n",
       "       [ 0.15440218, -0.1205526 ],\n",
       "       [-0.50386095, -0.20740613],\n",
       "       [-0.32358757, -0.34228623],\n",
       "       [ 0.24524611, -0.5599249 ],\n",
       "       [-0.33301604,  0.3421295 ],\n",
       "       [-0.04997435,  0.8064009 ],\n",
       "       [-0.73985052, -0.83861262],\n",
       "       [-0.28833604,  0.50308412],\n",
       "       [ 0.45878324,  0.50912648],\n",
       "       [ 0.00400469, -0.05444986],\n",
       "       [ 0.12325012,  0.17797065],\n",
       "       [-0.10102195,  0.14259386],\n",
       "       [ 0.49125439, -0.36277348],\n",
       "       [ 0.22690436,  0.18890375],\n",
       "       [-1.05563092,  1.10734046],\n",
       "       [ 0.02727595, -0.13494667],\n",
       "       [ 0.5517987 ,  0.0885006 ],\n",
       "       [-0.33982161, -0.03546413],\n",
       "       [ 0.77359086, -0.66207647],\n",
       "       [ 0.29761708, -0.11425325],\n",
       "       [-0.48113239, -1.98117256],\n",
       "       [-0.43149948, -0.61639452],\n",
       "       [ 1.23250389, -0.06930767],\n",
       "       [ 0.13581431,  0.11725954],\n",
       "       [ 0.10985155,  0.0527843 ],\n",
       "       [ 0.05681609, -0.23001987],\n",
       "       [ 0.76456577, -0.18817021],\n",
       "       [ 0.59415668, -0.55340606],\n",
       "       [-0.75927448,  0.1116029 ],\n",
       "       [ 0.09415887,  0.00565872],\n",
       "       [-0.18921416,  0.46823749],\n",
       "       [ 0.76802742,  0.63976884],\n",
       "       [ 0.1170897 ,  0.62736213],\n",
       "       [-0.13667955,  0.23790646],\n",
       "       [-0.67632174,  0.12477915],\n",
       "       [ 0.65739632,  0.07535399],\n",
       "       [ 0.53494072,  0.52099943],\n",
       "       [-0.19696736,  0.15480584],\n",
       "       [ 0.0640009 ,  0.09269597],\n",
       "       [ 0.49001056, -0.05460281],\n",
       "       [ 0.81284696,  0.87437314],\n",
       "       [-0.24306034, -0.15075915],\n",
       "       [-0.30335391, -0.28711966],\n",
       "       [-0.11454704,  0.06002937],\n",
       "       [-0.34563667,  1.41389692],\n",
       "       [ 0.16728647,  0.29663569],\n",
       "       [ 0.1843854 , -0.47942823],\n",
       "       [-0.20290348, -0.16246432],\n",
       "       [ 0.17262904, -0.52068168],\n",
       "       [ 0.16899715, -0.01712647],\n",
       "       [-0.03341863, -0.93530589],\n",
       "       [-0.2816675 , -0.24123032],\n",
       "       [ 0.49927291,  0.46944317],\n",
       "       [ 0.09248917,  0.33916274],\n",
       "       [-0.13494945,  0.44267359],\n",
       "       [ 0.07547226,  0.10076327],\n",
       "       [-0.35896072,  0.39098218],\n",
       "       [-0.02959919, -0.01113554],\n",
       "       [-0.35635415,  1.01161218],\n",
       "       [-0.05347547,  0.03850418],\n",
       "       [-0.60189039, -0.04246603],\n",
       "       [ 0.27841595,  0.06820424],\n",
       "       [ 0.64951736,  0.30099571],\n",
       "       [-0.46863306, -0.30801529],\n",
       "       [-0.21937375,  0.28181624],\n",
       "       [ 0.16508174, -0.29946467],\n",
       "       [-0.75294858,  0.20144421],\n",
       "       [ 0.19755176, -0.06702226],\n",
       "       [-0.72826976,  0.03085483],\n",
       "       [ 1.08094132,  0.38849601],\n",
       "       [-0.04418668,  0.27044871],\n",
       "       [ 0.60862648,  0.26827693],\n",
       "       [-0.14322975,  0.05219834],\n",
       "       [-0.71302819, -0.24404112],\n",
       "       [-0.38393453, -0.34178099],\n",
       "       [-0.19706601,  0.03607832],\n",
       "       [-0.21158598,  0.21221851],\n",
       "       [-0.22014026, -0.16288176],\n",
       "       [ 1.0367794 ,  0.71218437],\n",
       "       [ 0.27329949,  0.024873  ],\n",
       "       [ 0.50937361,  0.41699067],\n",
       "       [ 0.0795508 ,  0.07585526],\n",
       "       [-0.92553312, -0.0340577 ],\n",
       "       [-0.37185264,  0.12050446],\n",
       "       [ 0.07611397,  1.27890873],\n",
       "       [ 0.46887904, -0.36573717],\n",
       "       [ 0.0261282 ,  0.21442102],\n",
       "       [ 0.15634565,  0.13281737],\n",
       "       [-0.06322228,  0.3073476 ],\n",
       "       [-0.33044788,  0.15731488],\n",
       "       [ 0.41021574, -0.74897099],\n",
       "       [ 0.38780093, -0.08098511],\n",
       "       [-0.09600284, -0.90895307],\n",
       "       [ 0.70988297,  0.03325627],\n",
       "       [ 0.27191806, -0.30789855],\n",
       "       [-0.326601  , -0.06795846],\n",
       "       [-1.47517967,  0.73543835],\n",
       "       [-0.4073064 , -0.75580651],\n",
       "       [-1.48083544, -0.39691764],\n",
       "       [ 0.22719936, -0.40885735],\n",
       "       [ 1.30504405, -0.57275456],\n",
       "       [-0.10563565, -0.38579485],\n",
       "       [-0.57566226, -0.1685793 ],\n",
       "       [ 0.52516097, -0.05307278],\n",
       "       [-0.75156432, -0.16054112],\n",
       "       [-0.20617382, -0.42525744],\n",
       "       [-0.20470284, -0.42203626],\n",
       "       [ 0.14998192,  0.05066371],\n",
       "       [ 0.58196044,  1.06737697],\n",
       "       [-0.45164254, -0.60797769],\n",
       "       [ 0.356507  , -0.39937639],\n",
       "       [-0.23776221,  0.52467394],\n",
       "       [-0.10974719,  0.0261693 ],\n",
       "       [-0.17256691, -0.45210624],\n",
       "       [ 0.58581728, -0.20547086],\n",
       "       [ 0.08489516,  0.29166952],\n",
       "       [ 1.15348947,  0.5302645 ],\n",
       "       [-0.8081612 ,  0.13458644],\n",
       "       [-0.24824305, -0.18807469],\n",
       "       [-1.03262782, -0.3095645 ],\n",
       "       [ 0.31119716, -1.28873539],\n",
       "       [-0.38431764, -0.40467378],\n",
       "       [ 0.97460359, -0.3084051 ],\n",
       "       [ 0.22482994,  0.17696734],\n",
       "       [ 0.79565734,  0.65781164],\n",
       "       [-0.84469646,  0.51103139],\n",
       "       [-0.32130474, -0.23403865],\n",
       "       [-0.74567068, -0.96975201],\n",
       "       [-0.16414484,  0.4038797 ],\n",
       "       [-0.25187537,  0.4680495 ],\n",
       "       [-0.25711668, -0.02563939],\n",
       "       [-0.51968706, -0.30341351],\n",
       "       [ 1.31371224,  0.43077758],\n",
       "       [-0.39398456, -0.38619423],\n",
       "       [-0.68546575, -0.85606498],\n",
       "       [-0.21424499,  0.06168734],\n",
       "       [-0.57749724, -0.0034339 ],\n",
       "       [-0.00638332, -0.53304064],\n",
       "       [ 0.33888271, -1.08455944],\n",
       "       [-0.01663976,  0.46122661],\n",
       "       [ 0.32077065,  0.07086439],\n",
       "       [-0.44575602,  0.04253849],\n",
       "       [ 0.33730796, -0.7385444 ],\n",
       "       [-0.27192187,  0.55657309],\n",
       "       [ 0.66425598,  0.00914069],\n",
       "       [ 0.51265502, -0.1634424 ],\n",
       "       [-0.9746033 , -0.13916771],\n",
       "       [-0.62210149,  0.03305919],\n",
       "       [-0.70254135, -0.9557994 ],\n",
       "       [-0.11730411,  0.04882574],\n",
       "       [-0.27028179, -0.32009029],\n",
       "       [ 0.14797252,  0.31988293],\n",
       "       [ 0.8593393 , -0.69686759],\n",
       "       [ 0.71452892, -0.02709791]], dtype=float32)"
      ]
     },
     "execution_count": 34,
     "metadata": {},
     "output_type": "execute_result"
    }
   ],
   "source": [
    "sess.run(W)"
   ]
  },
  {
   "cell_type": "code",
   "execution_count": 39,
   "metadata": {
    "collapsed": false
   },
   "outputs": [
    {
     "data": {
      "text/plain": [
       "(1000, 2)"
      ]
     },
     "execution_count": 39,
     "metadata": {},
     "output_type": "execute_result"
    }
   ],
   "source": [
    "p.shape"
   ]
  },
  {
   "cell_type": "code",
   "execution_count": 38,
   "metadata": {
    "collapsed": false
   },
   "outputs": [
    {
     "data": {
      "text/plain": [
       "(1000,)"
      ]
     },
     "execution_count": 38,
     "metadata": {},
     "output_type": "execute_result"
    }
   ],
   "source": [
    "outs.shape"
   ]
  },
  {
   "cell_type": "code",
   "execution_count": 43,
   "metadata": {
    "collapsed": false
   },
   "outputs": [
    {
     "data": {
      "text/plain": [
       "<matplotlib.collections.PathCollection at 0x10ed15d30>"
      ]
     },
     "execution_count": 43,
     "metadata": {},
     "output_type": "execute_result"
    },
    {
     "name": "stderr",
     "output_type": "stream",
     "text": [
      "/Users/liamconnell/anaconda/lib/python3.4/site-packages/matplotlib/collections.py:590: FutureWarning: elementwise comparison failed; returning scalar instead, but in the future will perform elementwise comparison\n",
      "  if self._edgecolors == str('face'):\n"
     ]
    },
    {
     "data": {
      "image/png": "[encoded data removed]",
      "text/plain": [
       "<matplotlib.figure.Figure at 0x10ec6a400>"
      ]
     },
     "metadata": {},
     "output_type": "display_data"
    }
   ],
   "source": [
    "plt.scatter(p.T[1],ar_out.T[1])"
   ]
  },
  {
   "cell_type": "code",
   "execution_count": 33,
   "metadata": {
    "collapsed": true
   },
   "outputs": [],
   "source": [
    "new_ins, new_outs = sort_data(rets, 1000)"
   ]
  },
  {
   "cell_type": "code",
   "execution_count": 34,
   "metadata": {
    "collapsed": false
   },
   "outputs": [
    {
     "ename": "ValueError",
     "evalue": "Cannot feed value of shape (1000, 100) for Tensor 'Placeholder:0', which has shape (Dimension(None), Dimension(200))",
     "output_type": "error",
     "traceback": [
      "\u001b[0;31m---------------------------------------------------------------------------\u001b[0m",
      "\u001b[0;31mValueError\u001b[0m                                Traceback (most recent call last)",
      "\u001b[0;32m<ipython-input-34-593a538063b0>\u001b[0m in \u001b[0;36m<module>\u001b[0;34m()\u001b[0m\n\u001b[0;32m----> 1\u001b[0;31m \u001b[0mp\u001b[0m \u001b[0;34m=\u001b[0m \u001b[0msess\u001b[0m\u001b[0;34m.\u001b[0m\u001b[0mrun\u001b[0m\u001b[0;34m(\u001b[0m\u001b[0mpredict\u001b[0m\u001b[0;34m,\u001b[0m \u001b[0mfeed_dict\u001b[0m\u001b[0;34m=\u001b[0m\u001b[0;34m{\u001b[0m\u001b[0mx\u001b[0m\u001b[0;34m:\u001b[0m \u001b[0mnew_ins\u001b[0m\u001b[0;34m}\u001b[0m\u001b[0;34m)\u001b[0m\u001b[0;34m\u001b[0m\u001b[0m\n\u001b[0m",
      "\u001b[0;32m/Users/liamconnell/anaconda/lib/python3.4/site-packages/tensorflow/python/client/session.py\u001b[0m in \u001b[0;36mrun\u001b[0;34m(self, fetches, feed_dict)\u001b[0m\n\u001b[1;32m    362\u001b[0m                   \u001b[0;34m'which has shape %r'\u001b[0m\u001b[0;34m\u001b[0m\u001b[0m\n\u001b[1;32m    363\u001b[0m                   % (np_val.shape, subfeed_t.name,\n\u001b[0;32m--> 364\u001b[0;31m                      tuple(subfeed_t.get_shape().dims)))\n\u001b[0m\u001b[1;32m    365\u001b[0m           \u001b[0mfeed_dict_string\u001b[0m\u001b[0;34m[\u001b[0m\u001b[0mcompat\u001b[0m\u001b[0;34m.\u001b[0m\u001b[0mas_bytes\u001b[0m\u001b[0;34m(\u001b[0m\u001b[0msubfeed_t\u001b[0m\u001b[0;34m.\u001b[0m\u001b[0mname\u001b[0m\u001b[0;34m)\u001b[0m\u001b[0;34m]\u001b[0m \u001b[0;34m=\u001b[0m \u001b[0mnp_val\u001b[0m\u001b[0;34m\u001b[0m\u001b[0m\n\u001b[1;32m    366\u001b[0m \u001b[0;34m\u001b[0m\u001b[0m\n",
      "\u001b[0;31mValueError\u001b[0m: Cannot feed value of shape (1000, 100) for Tensor 'Placeholder:0', which has shape (Dimension(None), Dimension(200))"
     ]
    }
   ],
   "source": [
    "p = sess.run(predict, feed_dict={x: new_ins})"
   ]
  },
  {
   "cell_type": "code",
   "execution_count": null,
   "metadata": {
    "collapsed": false
   },
   "outputs": [],
   "source": [
    "plot(p,new_outs)"
   ]
  },
  {
   "cell_type": "code",
   "execution_count": null,
   "metadata": {
    "collapsed": true
   },
   "outputs": [],
   "source": [
    "from sklearn import linear_model"
   ]
  },
  {
   "cell_type": "code",
   "execution_count": null,
   "metadata": {
    "collapsed": false
   },
   "outputs": [],
   "source": [
    "regr = linear_model.LinearRegression()\n",
    "\n",
    "# Train the model using the training sets\n",
    "regr.fit(p,new_outs)"
   ]
  },
  {
   "cell_type": "code",
   "execution_count": null,
   "metadata": {
    "collapsed": false
   },
   "outputs": [],
   "source": [
    "print('Coefficients: \\n', regr.coef_)\n",
    "# The mean square error\n",
    "print(\"Residual sum of squares: %.2f\"\n",
    "      % np.mean((regr.predict(p) - new_outs) ** 2))\n",
    "# Explained variance score: 1 is perfect prediction\n",
    "print('Variance score: %.2f' % regr.score(p, new_outs))"
   ]
  },
  {
   "cell_type": "code",
   "execution_count": null,
   "metadata": {
    "collapsed": true
   },
   "outputs": [],
   "source": []
  }
 ],
 "metadata": {
  "kernelspec": {
   "display_name": "Python 3",
   "language": "python",
   "name": "python3"
  },
  "language_info": {
   "codemirror_mode": {
    "name": "ipython",
    "version": 3
   },
   "file_extension": ".py",
   "mimetype": "text/x-python",
   "name": "python",
   "nbconvert_exporter": "python",
   "pygments_lexer": "ipython3",
   "version": "3.4.4"
  }
 },
 "nbformat": 4,
 "nbformat_minor": 0
}
